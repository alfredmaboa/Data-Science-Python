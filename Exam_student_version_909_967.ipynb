{
  "nbformat": 4,
  "nbformat_minor": 0,
  "metadata": {
    "colab": {
      "name": "Exam_student_version-909-967.ipynb",
      "version": "0.3.2",
      "provenance": [],
      "collapsed_sections": [],
      "include_colab_link": true
    },
    "language_info": {
      "codemirror_mode": {
        "name": "ipython",
        "version": 3
      },
      "file_extension": ".py",
      "mimetype": "text/x-python",
      "name": "python",
      "nbconvert_exporter": "python",
      "pygments_lexer": "ipython3",
      "version": "3.7.1"
    },
    "kernelspec": {
      "display_name": "Python 3",
      "language": "python",
      "name": "python3"
    }
  },
  "cells": [
    {
      "cell_type": "markdown",
      "metadata": {
        "id": "view-in-github",
        "colab_type": "text"
      },
      "source": [
        "<a href=\"https://colab.research.google.com/github/alphoenixbiz/Data-Science-Python/blob/master/Exam_student_version_909_967.ipynb\" target=\"_parent\"><img src=\"https://colab.research.google.com/assets/colab-badge.svg\" alt=\"Open In Colab\"/></a>"
      ]
    },
    {
      "metadata": {
        "id": "Gg6u8zzCg9kx",
        "colab_type": "text"
      },
      "cell_type": "markdown",
      "source": [
        "# Supplementary Analyse Exam"
      ]
    },
    {
      "metadata": {
        "id": "_ogYNnI_g9k0",
        "colab_type": "text"
      },
      "cell_type": "markdown",
      "source": [
        "## Instructions to students"
      ]
    },
    {
      "metadata": {
        "id": "A1OerwOQg9k2",
        "colab_type": "text"
      },
      "cell_type": "markdown",
      "source": [
        "* **IMPOTANTLY: DO NOT ADD / REMOVE CELLS FROM THIS NOTEBOOK, AND DO NOT CHANGE THE NAMES OF THE FUNCTIONS REQUIRED FOR TESTING.**\n",
        "* This exam conists of 8 questions. Each question is independant on one another, and does require you to use functions built from previous questions. You can answer any question in any order you like.\n",
        "* Ensure that the answers to your questions do not contain `syntax` or `indentation` errors. Questions with these errors will break the autograder, and will mark the _**entire exam**_ as incorrect. The autograder will give you an error message if this is the case. Use this error message to correct the offending code, or comment it out before resubmitting.\n",
        "* You will be able to make _**multiple submissions**_ to the autograder. Use this ability to check whether a question you have answered is correct before proceeding to the next question.\n",
        "* Only place code in sections that contain the `# Your code here` comment.\n",
        "* We have provided some expected outputs for your code. Use these to determine whether your code is behaving as intended.\n",
        "* Some questions may have multiple requirements. It is possible to receive partial marks in these questions, so if you get stuck, try submitting to the autograder before moving on.\n",
        "\n",
        "**GOOD LUCK, and may the force be with you.**"
      ]
    },
    {
      "metadata": {
        "id": "57VHFmQng9k3",
        "colab_type": "text"
      },
      "cell_type": "markdown",
      "source": [
        "## Section 1"
      ]
    },
    {
      "metadata": {
        "id": "fHnnOiEhg9k4",
        "colab_type": "text"
      },
      "cell_type": "markdown",
      "source": [
        "### Question 1"
      ]
    },
    {
      "metadata": {
        "id": "0i5mfYZEg9k5",
        "colab_type": "text"
      },
      "cell_type": "markdown",
      "source": [
        "Write a function that converts a given string into \"txt spk\".\n",
        "\n",
        "The function should take as input a sentence (as `str`) and return as output the string but with all vowles and punctuation removed. For example:\n",
        "```python\n",
        "text_speech('Hello, World!') == 'Hll Wrld'\n",
        "```\n",
        "\n",
        "_**Function specfications:**_\n",
        "* Vowels are defined as any character in `aeiou`. Uppercase vowels should also be removed.\n",
        "* Punctuation is defined as any symbol in `.,!?;:`.\n",
        "* The function should return a `str` type.\n",
        "\n",
        "_**HINT:**_\n",
        "\n",
        "Try Googling \"How to delete a character in Python\" if you get stuck."
      ]
    },
    {
      "metadata": {
        "id": "c36sRc3Fg9k6",
        "colab_type": "code",
        "colab": {}
      },
      "cell_type": "code",
      "source": [
        "def text_speech(sentence):\n",
        "\n",
        "    newstr = sentence\n",
        "    vowels = ('a', 'e', 'i', 'o', 'u','A', 'E', 'I', 'O', 'U','.','!','?'';',':',',');\n",
        "    comp= 'AEIOUaeiou.,!?;:'\n",
        "    if sentence == comp:\n",
        "        return ''\n",
        "    for x in sentence:\n",
        "        if x in vowels:\n",
        "            newstr = newstr.replace(x,\"\");\n",
        "    return newstr"
      ],
      "execution_count": 0,
      "outputs": []
    },
    {
      "metadata": {
        "id": "LNLoW3L4g9k_",
        "colab_type": "code",
        "colab": {
          "base_uri": "https://localhost:8080/",
          "height": 34
        },
        "outputId": "feaf0492-ef61-4ce0-a933-0657ed4ea9f3"
      },
      "cell_type": "code",
      "source": [
        "text_speech('I talk funny')"
      ],
      "execution_count": 4,
      "outputs": [
        {
          "output_type": "execute_result",
          "data": {
            "text/plain": [
              "' tlk fnny'"
            ]
          },
          "metadata": {
            "tags": []
          },
          "execution_count": 4
        }
      ]
    },
    {
      "metadata": {
        "id": "UAyO6oymg9lD",
        "colab_type": "text"
      },
      "cell_type": "markdown",
      "source": [
        "_**Expected Outputs:**_\n",
        "```python\n",
        "text_speech('Hello, World!') == 'Hll Wrld'\n",
        "text_speech('I talk funny') == ' tlk fnny'\n",
        "text_speech('This is not good English') == 'Ths s nt gd nglsh'\n",
        "```"
      ]
    },
    {
      "metadata": {
        "id": "KlYpEekyg9lE",
        "colab_type": "text"
      },
      "cell_type": "markdown",
      "source": [
        "### Question 2"
      ]
    },
    {
      "metadata": {
        "id": "kJMIegGNg9lF",
        "colab_type": "text"
      },
      "cell_type": "markdown",
      "source": [
        "The function below should sort the elements of the list in reverse order (highest to lowest) and return the first two elements of the list, however, it contains a number of errors. Uncomment the function, and correct the errors until the function yields the desired output.\n",
        "\n",
        "_**Hint:**_\n",
        "\n",
        "* Use the error messages python provides you to correct the function\n",
        "* To check whether the function is working, you can use the Athena autograder. _**Don't be afraid to submit multiple times to the autograder when checking whether your function works.**_\n",
        "\n",
        "_**Note:**_\n",
        "\n",
        "If this or any other function contains a syntax error, the autograder will mark the _**entire exam**_ as zero. If this is the case, please _comment out_ the question with the error."
      ]
    },
    {
      "metadata": {
        "id": "tdpW4eipg9lG",
        "colab_type": "code",
        "colab": {}
      },
      "cell_type": "code",
      "source": [
        "def reverse_sort_slice_list(a):\n",
        "    output = sorted(list(a), reverse=True)\n",
        "    return output[:2]"
      ],
      "execution_count": 0,
      "outputs": []
    },
    {
      "metadata": {
        "id": "6htPk6iLg9lJ",
        "colab_type": "code",
        "colab": {
          "base_uri": "https://localhost:8080/",
          "height": 34
        },
        "outputId": "36b624c7-bf6a-466b-e5ae-53e047acb6d8"
      },
      "cell_type": "code",
      "source": [
        "reverse_sort_slice_list([-1, 3, -6, 7]) == [7, 3]"
      ],
      "execution_count": 9,
      "outputs": [
        {
          "output_type": "execute_result",
          "data": {
            "text/plain": [
              "True"
            ]
          },
          "metadata": {
            "tags": []
          },
          "execution_count": 9
        }
      ]
    },
    {
      "metadata": {
        "id": "4m6gwJlcg9lN",
        "colab_type": "text"
      },
      "cell_type": "markdown",
      "source": [
        "_**Expected outputs:**_\n",
        "```python\n",
        "reverse_sort_slice_list([1, 5, 3, 2]) == [5, 3]\n",
        "reverse_sort_slice_list([-1, 3, -6, 7]) == [7, 3]\n",
        "reverse_sort_slice_list([2]) == [2]\n",
        "```"
      ]
    },
    {
      "metadata": {
        "id": "Rd7Du5Bfg9lO",
        "colab_type": "text"
      },
      "cell_type": "markdown",
      "source": [
        "## Section 2"
      ]
    },
    {
      "metadata": {
        "id": "EZy7Z8Pjg9lP",
        "colab_type": "text"
      },
      "cell_type": "markdown",
      "source": [
        "You will require the use of the `numpy` and `pandas` packages in this section. Use them to answer the following questions."
      ]
    },
    {
      "metadata": {
        "id": "eQ2uAhYRg9lQ",
        "colab_type": "code",
        "colab": {}
      },
      "cell_type": "code",
      "source": [
        "import numpy as np\n",
        "import pandas as pd"
      ],
      "execution_count": 0,
      "outputs": []
    },
    {
      "metadata": {
        "id": "KmGIIBSTg9lW",
        "colab_type": "text"
      },
      "cell_type": "markdown",
      "source": [
        "### Question 3"
      ]
    },
    {
      "metadata": {
        "id": "-wjcdw0Kg9lX",
        "colab_type": "text"
      },
      "cell_type": "markdown",
      "source": [
        "Write a function which calculates the following math equation and round your answer to 2 decimal places.\n",
        "\n",
        "\\begin{equation}\n",
        " z = \\frac{\\pi e^{x^2}}{4y}\n",
        "\\end{equation}\n",
        "\n",
        "_**Function Specifications:**_\n",
        "* The input variables `x` and `y` are single values (that is, not a `list`/`array`)\n",
        "* If a division by zero occurs, raise a `ValueError`.\n",
        "* Output should be rounded to 2 decimal places."
      ]
    },
    {
      "metadata": {
        "id": "hk__ZWZvg9lY",
        "colab_type": "code",
        "colab": {}
      },
      "cell_type": "code",
      "source": [
        "def custom_function(x,y):\n",
        "    if(y ==0):\n",
        "        raise ValueError('Cannot dived by zero')\n",
        "    z = np.pi*np.e**x**2/(4*y)\n",
        "    \n",
        "    return round(z,2)"
      ],
      "execution_count": 0,
      "outputs": []
    },
    {
      "metadata": {
        "id": "GGhGqK7hg9lc",
        "colab_type": "code",
        "colab": {
          "base_uri": "https://localhost:8080/",
          "height": 34
        },
        "outputId": "75fdd22b-1820-4ea9-d65f-59331f8f1d52"
      },
      "cell_type": "code",
      "source": [
        "custom_function(0.5, 7) == 0.14"
      ],
      "execution_count": 12,
      "outputs": [
        {
          "output_type": "execute_result",
          "data": {
            "text/plain": [
              "True"
            ]
          },
          "metadata": {
            "tags": []
          },
          "execution_count": 12
        }
      ]
    },
    {
      "metadata": {
        "id": "4QtqHyJwg9le",
        "colab_type": "text"
      },
      "cell_type": "markdown",
      "source": [
        "_**Expected Outputs:**_\n",
        "```python\n",
        "custom_function(0.5, 7) == 0.14\n",
        "custom_function(0.5,0.01) == 100.85\n",
        "custom_function(0.1,0.3) == 2.64\n",
        "```"
      ]
    },
    {
      "metadata": {
        "id": "UOa__km3g9lf",
        "colab_type": "text"
      },
      "cell_type": "markdown",
      "source": [
        "### Question 4"
      ]
    },
    {
      "metadata": {
        "id": "mbv76Cifg9lg",
        "colab_type": "text"
      },
      "cell_type": "markdown",
      "source": [
        "Given a Python list, calculate and return the difference between the second largest number and the second smallest number. Assume that the list contains two or more elements.\n",
        "\n",
        "_**Function Specifications:**_\n",
        "* The second largest / smallest must be different to the largest / smallest number in a list. That is:\n",
        "```python\n",
        "difference([10, 10, 10, 8, 5, 2, 1, 1, 1]) == 8 - 2 == 6\n",
        "```\n",
        "* Should take a `list` as input."
      ]
    },
    {
      "metadata": {
        "id": "aC5oEBZgg9lg",
        "colab_type": "code",
        "colab": {}
      },
      "cell_type": "code",
      "source": [
        "def difference(list1):\n",
        "    list1 = set(list1)\n",
        "    list2 = list(list1)\n",
        "    largest = list2[-2]  \n",
        "    lowest = list2[1]  \n",
        "    \n",
        "            \n",
        "    return largest -lowest\n"
      ],
      "execution_count": 0,
      "outputs": []
    },
    {
      "metadata": {
        "id": "SgS0MYTQg9lj",
        "colab_type": "code",
        "colab": {
          "base_uri": "https://localhost:8080/",
          "height": 34
        },
        "outputId": "48f5a293-1dde-4fc3-b9a4-12bc59f6eb16"
      },
      "cell_type": "code",
      "source": [
        "difference([1,2]) == -1"
      ],
      "execution_count": 30,
      "outputs": [
        {
          "output_type": "execute_result",
          "data": {
            "text/plain": [
              "True"
            ]
          },
          "metadata": {
            "tags": []
          },
          "execution_count": 30
        }
      ]
    },
    {
      "metadata": {
        "id": "DG9ClgR8g9ll",
        "colab_type": "text"
      },
      "cell_type": "markdown",
      "source": [
        "_**Expected Outputs:**_\n",
        "```python\n",
        "difference([1,2]) == -1\n",
        "difference([1,2,3,4]) == 1\n",
        "difference([5,13,1,9,18]) == 8\n",
        "```"
      ]
    },
    {
      "metadata": {
        "id": "uJ5DNCvEg9lm",
        "colab_type": "text"
      },
      "cell_type": "markdown",
      "source": [
        "### Question 5"
      ]
    },
    {
      "metadata": {
        "id": "ekOMT7MFg9ln",
        "colab_type": "text"
      },
      "cell_type": "markdown",
      "source": [
        "Write a function that takes a list of numbers as an input and produces a report on the sample statistics of the list. The function should return a `dict` type object containing statistics of the list.\n",
        "\n",
        "_**Function Specifications:**_\n",
        "* Must take a `list` as input.\n",
        "* If the function does not receive a `list`, it must raise a `TypeError`.\n",
        "* If the length of the `list` is smaller than or equal to 1, raise a `ValueError`.\n",
        "* Function must return a `dict`, whose keys represent the sample statistics of the input with the following format:\n",
        "```python\n",
        "{\n",
        "    'mean': # mean of the input,\n",
        "    'std': # unbiased estimate of the standard deviation,\n",
        "    'min': # minimum of the input,\n",
        "    'median': # median of the input,\n",
        "    'max': # maximum of the input\n",
        "}\n",
        "```\n",
        "* If the input list contains multiple rows, the function should report on the mean/std/max/etc of each row in the form of a list.\n",
        "```python\n",
        "statistics([[1, 2], [3, 4]]) == {\n",
        "    'mean': [1.5, 3.5],\n",
        "    'std': [0.71, 0.71],\n",
        "    'min': [1, 3],\n",
        "    'median': [1.5, 3.5],\n",
        "    'max': [2, 4]\n",
        "}\n",
        "```\n",
        "* All numerical values should be rounded to 2 decimal places\n",
        "\n",
        "_**HINT:**_\n",
        "\n",
        "* Use `numpy` functions with the `axis` keyword.\n",
        "* When doing an unbiased estimate, try googling the `ddof` keyword, or refer to the train in Athena.\n",
        "* The `axis` keyword should be either `0`, `1`, or `-1`. One of these will work better than the other.\n",
        "* _You can get partial marks for this question if you only get part of it correct. Don't be afraid to submit to the autograder for marks if you are getting stuck._"
      ]
    },
    {
      "metadata": {
        "id": "glAuqQ6Rg9lo",
        "colab_type": "code",
        "colab": {}
      },
      "cell_type": "code",
      "source": [
        "def statistics(x):\n",
        "    out_dict = {}\n",
        "    if isinstance(x, list) == False:\n",
        "        raise TypeError('Error')\n",
        "    elif len(x) <= 1:\n",
        "        raise ValueError('Value less than 1')\n",
        "        \n",
        "    x = np.array(x)\n",
        "    if len(x.shape) == 1: \n",
        "        out_dict.update({\n",
        "        'mean': x.mean(),\n",
        "        'std': np.round(np.std(x, ddof=1),2),\n",
        "        'min': x.min(),\n",
        "        'median': np.median(x),\n",
        "        'max': x.max()\n",
        "        })\n",
        "    else:\n",
        "        out_dict.update({\n",
        "        'mean': x.mean(axis=1),\n",
        "        'std': np.round(np.std(x, ddof=1,axis=1),2),\n",
        "        'min': x.min(axis=1),\n",
        "        'median': np.median(x, axis = 1),\n",
        "        'max': x.max(axis=1)\n",
        "        })\n",
        "    \n",
        "    return out_dict"
      ],
      "execution_count": 0,
      "outputs": []
    },
    {
      "metadata": {
        "id": "6bcoohE5g9lr",
        "colab_type": "code",
        "colab": {
          "base_uri": "https://localhost:8080/",
          "height": 102
        },
        "outputId": "941d673b-6c04-443e-aaa4-1fc5df4b7913"
      },
      "cell_type": "code",
      "source": [
        "statistics([[1, 2], [3, 4]])"
      ],
      "execution_count": 45,
      "outputs": [
        {
          "output_type": "execute_result",
          "data": {
            "text/plain": [
              "{'max': array([2, 4]),\n",
              " 'mean': array([1.5, 3.5]),\n",
              " 'median': array([1.5, 3.5]),\n",
              " 'min': array([1, 3]),\n",
              " 'std': array([0.71, 0.71])}"
            ]
          },
          "metadata": {
            "tags": []
          },
          "execution_count": 45
        }
      ]
    },
    {
      "metadata": {
        "id": "pnCqqsk3g9lt",
        "colab_type": "text"
      },
      "cell_type": "markdown",
      "source": [
        "_**Expected Outputs:**_\n",
        "```python\n",
        "statistics([1, 1, 1, 1]) == {'mean': 1, 'std': 0, 'min': 1, 'median', 1, 'max': 1}\n",
        "statistics([1, 2, 2, 3, 4]) == {'mean': 2.4, 'std': 1.29, 'min': 1, 'median': 2.0, 'max': 4}\n",
        "statistics([[1, 2], [3, 4]]) == {\n",
        "    'mean': [1.5, 3.5],\n",
        "    'std': [0.71, 0.71],\n",
        "    'min': [1, 3],\n",
        "    'median': [1.5, 3.5],\n",
        "    'max': [2, 4]\n",
        "}\n",
        "```"
      ]
    },
    {
      "metadata": {
        "id": "kFAJ2Pjng9lu",
        "colab_type": "text"
      },
      "cell_type": "markdown",
      "source": [
        "### Dataframes"
      ]
    },
    {
      "metadata": {
        "id": "uKw6la4lg9lv",
        "colab_type": "text"
      },
      "cell_type": "markdown",
      "source": [
        "You will need these dataframes in order to answer the following questions.\n",
        "\n",
        "_**DO NOT ALTER THESE DATAFRAMES AS DOING SO CAN LEAD TO A NEGATIVE MARK**_"
      ]
    },
    {
      "metadata": {
        "id": "LKHLTCePg9lw",
        "colab_type": "code",
        "colab": {}
      },
      "cell_type": "code",
      "source": [
        "country_map_df = pd.read_csv('https://raw.githubusercontent.com/Explore-AI/Public-Data/master/AnalyseProject/country_code_map.csv', index_col='Country Code')\n",
        "population_df = pd.read_csv('https://raw.githubusercontent.com/Explore-AI/Public-Data/master/AnalyseProject/world_population.csv', index_col='Country Code')\n",
        "meta_df = pd.read_csv('https://raw.githubusercontent.com/Explore-AI/Public-Data/master/AnalyseProject/metadata.csv', index_col='Country Code')"
      ],
      "execution_count": 0,
      "outputs": []
    },
    {
      "metadata": {
        "id": "O3MeKLnPg9l0",
        "colab_type": "text"
      },
      "cell_type": "markdown",
      "source": [
        "_**Dataframe specifications:**_\n",
        "\n",
        "The dataframes provide information about the population of the world for various years. Some things to note:\n",
        "* All dataframes have a `Country Code` as an index, which is a three letter code referring to a country.\n",
        "* The `country_map_df` data maps the `Country Code` to a `Country Name`.\n",
        "* The `population_df` data contains information on the population for a given country between the years of 1960 and 2017.\n",
        "* The `meta_df` data contains meta information about each country, including it's geographical region, it's income group, and a comment on the country as a whole."
      ]
    },
    {
      "metadata": {
        "id": "ItfSjtPFg9l1",
        "colab_type": "code",
        "colab": {
          "base_uri": "https://localhost:8080/",
          "height": 235
        },
        "outputId": "1148c0e3-763c-4666-a864-75079e646304"
      },
      "cell_type": "code",
      "source": [
        "country_map_df.head()"
      ],
      "execution_count": 48,
      "outputs": [
        {
          "output_type": "execute_result",
          "data": {
            "text/html": [
              "<div>\n",
              "<style scoped>\n",
              "    .dataframe tbody tr th:only-of-type {\n",
              "        vertical-align: middle;\n",
              "    }\n",
              "\n",
              "    .dataframe tbody tr th {\n",
              "        vertical-align: top;\n",
              "    }\n",
              "\n",
              "    .dataframe thead th {\n",
              "        text-align: right;\n",
              "    }\n",
              "</style>\n",
              "<table border=\"1\" class=\"dataframe\">\n",
              "  <thead>\n",
              "    <tr style=\"text-align: right;\">\n",
              "      <th></th>\n",
              "      <th>Country Name</th>\n",
              "    </tr>\n",
              "    <tr>\n",
              "      <th>Country Code</th>\n",
              "      <th></th>\n",
              "    </tr>\n",
              "  </thead>\n",
              "  <tbody>\n",
              "    <tr>\n",
              "      <th>ABW</th>\n",
              "      <td>Aruba</td>\n",
              "    </tr>\n",
              "    <tr>\n",
              "      <th>AFG</th>\n",
              "      <td>Afghanistan</td>\n",
              "    </tr>\n",
              "    <tr>\n",
              "      <th>AGO</th>\n",
              "      <td>Angola</td>\n",
              "    </tr>\n",
              "    <tr>\n",
              "      <th>ALB</th>\n",
              "      <td>Albania</td>\n",
              "    </tr>\n",
              "    <tr>\n",
              "      <th>AND</th>\n",
              "      <td>Andorra</td>\n",
              "    </tr>\n",
              "  </tbody>\n",
              "</table>\n",
              "</div>"
            ],
            "text/plain": [
              "             Country Name\n",
              "Country Code             \n",
              "ABW                 Aruba\n",
              "AFG           Afghanistan\n",
              "AGO                Angola\n",
              "ALB               Albania\n",
              "AND               Andorra"
            ]
          },
          "metadata": {
            "tags": []
          },
          "execution_count": 48
        }
      ]
    },
    {
      "metadata": {
        "id": "TDAa4BtDg9l9",
        "colab_type": "code",
        "colab": {},
        "outputId": "f4289deb-7da0-4630-9033-6a1a92883ef1"
      },
      "cell_type": "code",
      "source": [
        "population_df.head()"
      ],
      "execution_count": 0,
      "outputs": [
        {
          "output_type": "execute_result",
          "data": {
            "text/html": [
              "<div>\n",
              "<style scoped>\n",
              "    .dataframe tbody tr th:only-of-type {\n",
              "        vertical-align: middle;\n",
              "    }\n",
              "\n",
              "    .dataframe tbody tr th {\n",
              "        vertical-align: top;\n",
              "    }\n",
              "\n",
              "    .dataframe thead th {\n",
              "        text-align: right;\n",
              "    }\n",
              "</style>\n",
              "<table border=\"1\" class=\"dataframe\">\n",
              "  <thead>\n",
              "    <tr style=\"text-align: right;\">\n",
              "      <th></th>\n",
              "      <th>1960</th>\n",
              "      <th>1961</th>\n",
              "      <th>1962</th>\n",
              "      <th>1963</th>\n",
              "      <th>1964</th>\n",
              "      <th>1965</th>\n",
              "      <th>1966</th>\n",
              "      <th>1967</th>\n",
              "      <th>1968</th>\n",
              "      <th>1969</th>\n",
              "      <th>...</th>\n",
              "      <th>2008</th>\n",
              "      <th>2009</th>\n",
              "      <th>2010</th>\n",
              "      <th>2011</th>\n",
              "      <th>2012</th>\n",
              "      <th>2013</th>\n",
              "      <th>2014</th>\n",
              "      <th>2015</th>\n",
              "      <th>2016</th>\n",
              "      <th>2017</th>\n",
              "    </tr>\n",
              "    <tr>\n",
              "      <th>Country Code</th>\n",
              "      <th></th>\n",
              "      <th></th>\n",
              "      <th></th>\n",
              "      <th></th>\n",
              "      <th></th>\n",
              "      <th></th>\n",
              "      <th></th>\n",
              "      <th></th>\n",
              "      <th></th>\n",
              "      <th></th>\n",
              "      <th></th>\n",
              "      <th></th>\n",
              "      <th></th>\n",
              "      <th></th>\n",
              "      <th></th>\n",
              "      <th></th>\n",
              "      <th></th>\n",
              "      <th></th>\n",
              "      <th></th>\n",
              "      <th></th>\n",
              "      <th></th>\n",
              "    </tr>\n",
              "  </thead>\n",
              "  <tbody>\n",
              "    <tr>\n",
              "      <th>ABW</th>\n",
              "      <td>54211.0</td>\n",
              "      <td>55438.0</td>\n",
              "      <td>56225.0</td>\n",
              "      <td>56695.0</td>\n",
              "      <td>57032.0</td>\n",
              "      <td>57360.0</td>\n",
              "      <td>57715.0</td>\n",
              "      <td>58055.0</td>\n",
              "      <td>58386.0</td>\n",
              "      <td>58726.0</td>\n",
              "      <td>...</td>\n",
              "      <td>101353.0</td>\n",
              "      <td>101453.0</td>\n",
              "      <td>101669.0</td>\n",
              "      <td>102053.0</td>\n",
              "      <td>102577.0</td>\n",
              "      <td>103187.0</td>\n",
              "      <td>103795.0</td>\n",
              "      <td>104341.0</td>\n",
              "      <td>104822.0</td>\n",
              "      <td>105264.0</td>\n",
              "    </tr>\n",
              "    <tr>\n",
              "      <th>AFG</th>\n",
              "      <td>8996351.0</td>\n",
              "      <td>9166764.0</td>\n",
              "      <td>9345868.0</td>\n",
              "      <td>9533954.0</td>\n",
              "      <td>9731361.0</td>\n",
              "      <td>9938414.0</td>\n",
              "      <td>10152331.0</td>\n",
              "      <td>10372630.0</td>\n",
              "      <td>10604346.0</td>\n",
              "      <td>10854428.0</td>\n",
              "      <td>...</td>\n",
              "      <td>27294031.0</td>\n",
              "      <td>28004331.0</td>\n",
              "      <td>28803167.0</td>\n",
              "      <td>29708599.0</td>\n",
              "      <td>30696958.0</td>\n",
              "      <td>31731688.0</td>\n",
              "      <td>32758020.0</td>\n",
              "      <td>33736494.0</td>\n",
              "      <td>34656032.0</td>\n",
              "      <td>35530081.0</td>\n",
              "    </tr>\n",
              "    <tr>\n",
              "      <th>AGO</th>\n",
              "      <td>5643182.0</td>\n",
              "      <td>5753024.0</td>\n",
              "      <td>5866061.0</td>\n",
              "      <td>5980417.0</td>\n",
              "      <td>6093321.0</td>\n",
              "      <td>6203299.0</td>\n",
              "      <td>6309770.0</td>\n",
              "      <td>6414995.0</td>\n",
              "      <td>6523791.0</td>\n",
              "      <td>6642632.0</td>\n",
              "      <td>...</td>\n",
              "      <td>21759420.0</td>\n",
              "      <td>22549547.0</td>\n",
              "      <td>23369131.0</td>\n",
              "      <td>24218565.0</td>\n",
              "      <td>25096150.0</td>\n",
              "      <td>25998340.0</td>\n",
              "      <td>26920466.0</td>\n",
              "      <td>27859305.0</td>\n",
              "      <td>28813463.0</td>\n",
              "      <td>29784193.0</td>\n",
              "    </tr>\n",
              "    <tr>\n",
              "      <th>ALB</th>\n",
              "      <td>1608800.0</td>\n",
              "      <td>1659800.0</td>\n",
              "      <td>1711319.0</td>\n",
              "      <td>1762621.0</td>\n",
              "      <td>1814135.0</td>\n",
              "      <td>1864791.0</td>\n",
              "      <td>1914573.0</td>\n",
              "      <td>1965598.0</td>\n",
              "      <td>2022272.0</td>\n",
              "      <td>2081695.0</td>\n",
              "      <td>...</td>\n",
              "      <td>2947314.0</td>\n",
              "      <td>2927519.0</td>\n",
              "      <td>2913021.0</td>\n",
              "      <td>2905195.0</td>\n",
              "      <td>2900401.0</td>\n",
              "      <td>2895092.0</td>\n",
              "      <td>2889104.0</td>\n",
              "      <td>2880703.0</td>\n",
              "      <td>2876101.0</td>\n",
              "      <td>2873457.0</td>\n",
              "    </tr>\n",
              "    <tr>\n",
              "      <th>AND</th>\n",
              "      <td>13411.0</td>\n",
              "      <td>14375.0</td>\n",
              "      <td>15370.0</td>\n",
              "      <td>16412.0</td>\n",
              "      <td>17469.0</td>\n",
              "      <td>18549.0</td>\n",
              "      <td>19647.0</td>\n",
              "      <td>20758.0</td>\n",
              "      <td>21890.0</td>\n",
              "      <td>23058.0</td>\n",
              "      <td>...</td>\n",
              "      <td>83861.0</td>\n",
              "      <td>84462.0</td>\n",
              "      <td>84449.0</td>\n",
              "      <td>83751.0</td>\n",
              "      <td>82431.0</td>\n",
              "      <td>80788.0</td>\n",
              "      <td>79223.0</td>\n",
              "      <td>78014.0</td>\n",
              "      <td>77281.0</td>\n",
              "      <td>76965.0</td>\n",
              "    </tr>\n",
              "  </tbody>\n",
              "</table>\n",
              "<p>5 rows × 58 columns</p>\n",
              "</div>"
            ],
            "text/plain": [
              "                   1960       1961       1962       1963       1964  \\\n",
              "Country Code                                                          \n",
              "ABW             54211.0    55438.0    56225.0    56695.0    57032.0   \n",
              "AFG           8996351.0  9166764.0  9345868.0  9533954.0  9731361.0   \n",
              "AGO           5643182.0  5753024.0  5866061.0  5980417.0  6093321.0   \n",
              "ALB           1608800.0  1659800.0  1711319.0  1762621.0  1814135.0   \n",
              "AND             13411.0    14375.0    15370.0    16412.0    17469.0   \n",
              "\n",
              "                   1965        1966        1967        1968        1969  \\\n",
              "Country Code                                                              \n",
              "ABW             57360.0     57715.0     58055.0     58386.0     58726.0   \n",
              "AFG           9938414.0  10152331.0  10372630.0  10604346.0  10854428.0   \n",
              "AGO           6203299.0   6309770.0   6414995.0   6523791.0   6642632.0   \n",
              "ALB           1864791.0   1914573.0   1965598.0   2022272.0   2081695.0   \n",
              "AND             18549.0     19647.0     20758.0     21890.0     23058.0   \n",
              "\n",
              "                 ...            2008        2009        2010        2011  \\\n",
              "Country Code     ...                                                       \n",
              "ABW              ...        101353.0    101453.0    101669.0    102053.0   \n",
              "AFG              ...      27294031.0  28004331.0  28803167.0  29708599.0   \n",
              "AGO              ...      21759420.0  22549547.0  23369131.0  24218565.0   \n",
              "ALB              ...       2947314.0   2927519.0   2913021.0   2905195.0   \n",
              "AND              ...         83861.0     84462.0     84449.0     83751.0   \n",
              "\n",
              "                    2012        2013        2014        2015        2016  \\\n",
              "Country Code                                                               \n",
              "ABW             102577.0    103187.0    103795.0    104341.0    104822.0   \n",
              "AFG           30696958.0  31731688.0  32758020.0  33736494.0  34656032.0   \n",
              "AGO           25096150.0  25998340.0  26920466.0  27859305.0  28813463.0   \n",
              "ALB            2900401.0   2895092.0   2889104.0   2880703.0   2876101.0   \n",
              "AND              82431.0     80788.0     79223.0     78014.0     77281.0   \n",
              "\n",
              "                    2017  \n",
              "Country Code              \n",
              "ABW             105264.0  \n",
              "AFG           35530081.0  \n",
              "AGO           29784193.0  \n",
              "ALB            2873457.0  \n",
              "AND              76965.0  \n",
              "\n",
              "[5 rows x 58 columns]"
            ]
          },
          "metadata": {
            "tags": []
          },
          "execution_count": 20
        }
      ]
    },
    {
      "metadata": {
        "id": "1Se7Quhdg9mA",
        "colab_type": "code",
        "colab": {
          "base_uri": "https://localhost:8080/",
          "height": 235
        },
        "outputId": "3f1aa5dc-88ed-4ac8-ea8e-c3b6b3ca8566"
      },
      "cell_type": "code",
      "source": [
        "meta_df.head()"
      ],
      "execution_count": 349,
      "outputs": [
        {
          "output_type": "execute_result",
          "data": {
            "text/html": [
              "<div>\n",
              "<style scoped>\n",
              "    .dataframe tbody tr th:only-of-type {\n",
              "        vertical-align: middle;\n",
              "    }\n",
              "\n",
              "    .dataframe tbody tr th {\n",
              "        vertical-align: top;\n",
              "    }\n",
              "\n",
              "    .dataframe thead th {\n",
              "        text-align: right;\n",
              "    }\n",
              "</style>\n",
              "<table border=\"1\" class=\"dataframe\">\n",
              "  <thead>\n",
              "    <tr style=\"text-align: right;\">\n",
              "      <th></th>\n",
              "      <th>Region</th>\n",
              "      <th>Income Group</th>\n",
              "      <th>Special Notes</th>\n",
              "    </tr>\n",
              "    <tr>\n",
              "      <th>Country Code</th>\n",
              "      <th></th>\n",
              "      <th></th>\n",
              "      <th></th>\n",
              "    </tr>\n",
              "  </thead>\n",
              "  <tbody>\n",
              "    <tr>\n",
              "      <th>ABW</th>\n",
              "      <td>Latin America &amp; Caribbean</td>\n",
              "      <td>High income</td>\n",
              "      <td>Mining is included in agriculture\\r\\r\\r\\nElect...</td>\n",
              "    </tr>\n",
              "    <tr>\n",
              "      <th>AFG</th>\n",
              "      <td>South Asia</td>\n",
              "      <td>Low income</td>\n",
              "      <td>Fiscal year end: March 20; reporting period fo...</td>\n",
              "    </tr>\n",
              "    <tr>\n",
              "      <th>AGO</th>\n",
              "      <td>Sub-Saharan Africa</td>\n",
              "      <td>Lower middle income</td>\n",
              "      <td>NaN</td>\n",
              "    </tr>\n",
              "    <tr>\n",
              "      <th>ALB</th>\n",
              "      <td>Europe &amp; Central Asia</td>\n",
              "      <td>Upper middle income</td>\n",
              "      <td>NaN</td>\n",
              "    </tr>\n",
              "    <tr>\n",
              "      <th>AND</th>\n",
              "      <td>Europe &amp; Central Asia</td>\n",
              "      <td>High income</td>\n",
              "      <td>WB-3 code changed from ADO to AND to align wit...</td>\n",
              "    </tr>\n",
              "  </tbody>\n",
              "</table>\n",
              "</div>"
            ],
            "text/plain": [
              "                                 Region         Income Group  \\\n",
              "Country Code                                                   \n",
              "ABW           Latin America & Caribbean          High income   \n",
              "AFG                          South Asia           Low income   \n",
              "AGO                  Sub-Saharan Africa  Lower middle income   \n",
              "ALB               Europe & Central Asia  Upper middle income   \n",
              "AND               Europe & Central Asia          High income   \n",
              "\n",
              "                                                  Special Notes  \n",
              "Country Code                                                     \n",
              "ABW           Mining is included in agriculture\\r\\r\\r\\nElect...  \n",
              "AFG           Fiscal year end: March 20; reporting period fo...  \n",
              "AGO                                                         NaN  \n",
              "ALB                                                         NaN  \n",
              "AND           WB-3 code changed from ADO to AND to align wit...  "
            ]
          },
          "metadata": {
            "tags": []
          },
          "execution_count": 349
        }
      ]
    },
    {
      "metadata": {
        "id": "bPUzPBC5g9mD",
        "colab_type": "text"
      },
      "cell_type": "markdown",
      "source": [
        "Using this information, answer the questions below:"
      ]
    },
    {
      "metadata": {
        "id": "8Jc99fUeg9mE",
        "colab_type": "text"
      },
      "cell_type": "markdown",
      "source": [
        "### Question 6"
      ]
    },
    {
      "metadata": {
        "id": "rTbRdro_g9mF",
        "colab_type": "text"
      },
      "cell_type": "markdown",
      "source": [
        "Write a function that returns the population for a given year and country name.\n",
        "\n",
        "_**Function Specifications:**_\n",
        "* The function should take in a year as `int` and a country name as a `str` as inputs.\n",
        "* The function should return an `int`.\n",
        "\n",
        "_**Note:**_\n",
        "* Column references should be a `str` type. This is relevant when referring to the years in the `population_df` table."
      ]
    },
    {
      "metadata": {
        "id": "yWZULqFmg9mG",
        "colab_type": "code",
        "colab": {}
      },
      "cell_type": "code",
      "source": [
        "def population_by_country_year(country_name, year):\n",
        "    \n",
        "    df1 = pd.DataFrame(country_map_df)\n",
        "    df2 = pd.DataFrame(meta_df)\n",
        "    df3 = pd.DataFrame(population_df)\n",
        "    df1 = df1[df1['Country Name'] == country_name].index[0]\n",
        "    df3 = df3[df3.index == df1][str(year)]\n",
        "   \n",
        "    \n",
        "    return df3.values[0]"
      ],
      "execution_count": 0,
      "outputs": []
    },
    {
      "metadata": {
        "id": "_24FLGwng9mJ",
        "colab_type": "code",
        "colab": {
          "base_uri": "https://localhost:8080/",
          "height": 34
        },
        "outputId": "96cf303b-c1b5-45d9-97ab-1223a7335e2a"
      },
      "cell_type": "code",
      "source": [
        "population_by_country_year('Canada', 2012) == 34750545"
      ],
      "execution_count": 120,
      "outputs": [
        {
          "output_type": "execute_result",
          "data": {
            "text/plain": [
              "True"
            ]
          },
          "metadata": {
            "tags": []
          },
          "execution_count": 120
        }
      ]
    },
    {
      "metadata": {
        "id": "dNMCFFiyg9mL",
        "colab_type": "text"
      },
      "cell_type": "markdown",
      "source": [
        "_**Expected Outputs:**_\n",
        "```python\n",
        "population_by_country_year('South Africa', 1960) == 17456855\n",
        "population_by_country_year('Canada', 2012) == 34750545\n",
        "population_by_country_year('Algeria', 2015) == 39871528\n",
        "```"
      ]
    },
    {
      "metadata": {
        "id": "6QfhNKcwg9mM",
        "colab_type": "text"
      },
      "cell_type": "markdown",
      "source": [
        "### Question 7"
      ]
    },
    {
      "metadata": {
        "id": "il9BFRogg9mM",
        "colab_type": "text"
      },
      "cell_type": "markdown",
      "source": [
        "Write a function that returns the summed population total in each geographic region for a given year.\n",
        "\n",
        "_**Function Specifications:**_\n",
        "* Should take as input a year as an `int`.\n",
        "* Should have `Region` as the index.\n",
        "* Should return a `DataFrame`, NOT a `Series`."
      ]
    },
    {
      "metadata": {
        "id": "MormKFfeg9mN",
        "colab_type": "code",
        "colab": {}
      },
      "cell_type": "code",
      "source": [
        "def total_pop_in_region(year):\n",
        "    df1 = pd.DataFrame(country_map_df)\n",
        "    df2 = pd.DataFrame(meta_df)\n",
        "    df3 = pd.DataFrame(population_df)\n",
        "\n",
        "    df4 = pd.merge(df3, df2, on='Country Code')\n",
        "    df4.set_index('Region',inplace=True)\n",
        "    \n",
        "   \n",
        "    return df4.groupby(df4.index)[[str(year)]].sum()"
      ],
      "execution_count": 0,
      "outputs": []
    },
    {
      "metadata": {
        "id": "teUVURxig9mP",
        "colab_type": "code",
        "colab": {
          "base_uri": "https://localhost:8080/",
          "height": 297
        },
        "outputId": "3445a10d-d3fb-4b58-f9af-cae84f523975"
      },
      "cell_type": "code",
      "source": [
        "total_pop_in_region(2016)"
      ],
      "execution_count": 147,
      "outputs": [
        {
          "output_type": "execute_result",
          "data": {
            "text/html": [
              "<div>\n",
              "<style scoped>\n",
              "    .dataframe tbody tr th:only-of-type {\n",
              "        vertical-align: middle;\n",
              "    }\n",
              "\n",
              "    .dataframe tbody tr th {\n",
              "        vertical-align: top;\n",
              "    }\n",
              "\n",
              "    .dataframe thead th {\n",
              "        text-align: right;\n",
              "    }\n",
              "</style>\n",
              "<table border=\"1\" class=\"dataframe\">\n",
              "  <thead>\n",
              "    <tr style=\"text-align: right;\">\n",
              "      <th></th>\n",
              "      <th>2016</th>\n",
              "    </tr>\n",
              "    <tr>\n",
              "      <th>Region</th>\n",
              "      <th></th>\n",
              "    </tr>\n",
              "  </thead>\n",
              "  <tbody>\n",
              "    <tr>\n",
              "      <th>East Asia &amp; Pacific</th>\n",
              "      <td>2.275219e+09</td>\n",
              "    </tr>\n",
              "    <tr>\n",
              "      <th>Europe &amp; Central Asia</th>\n",
              "      <td>9.116863e+08</td>\n",
              "    </tr>\n",
              "    <tr>\n",
              "      <th>Latin America &amp; Caribbean</th>\n",
              "      <td>6.376639e+08</td>\n",
              "    </tr>\n",
              "    <tr>\n",
              "      <th>Middle East &amp; North Africa</th>\n",
              "      <td>4.367380e+08</td>\n",
              "    </tr>\n",
              "    <tr>\n",
              "      <th>North America</th>\n",
              "      <td>3.597359e+08</td>\n",
              "    </tr>\n",
              "    <tr>\n",
              "      <th>South Asia</th>\n",
              "      <td>1.766394e+09</td>\n",
              "    </tr>\n",
              "    <tr>\n",
              "      <th>Sub-Saharan Africa</th>\n",
              "      <td>1.028258e+09</td>\n",
              "    </tr>\n",
              "  </tbody>\n",
              "</table>\n",
              "</div>"
            ],
            "text/plain": [
              "                                    2016\n",
              "Region                                  \n",
              "East Asia & Pacific         2.275219e+09\n",
              "Europe & Central Asia       9.116863e+08\n",
              "Latin America & Caribbean   6.376639e+08\n",
              "Middle East & North Africa  4.367380e+08\n",
              "North America               3.597359e+08\n",
              "South Asia                  1.766394e+09\n",
              "Sub-Saharan Africa          1.028258e+09"
            ]
          },
          "metadata": {
            "tags": []
          },
          "execution_count": 147
        }
      ]
    },
    {
      "metadata": {
        "colab_type": "text",
        "id": "cTi_VjQHQdZr"
      },
      "cell_type": "markdown",
      "source": [
        "_**Expected Outputs:**_\n",
        "```python\n",
        "total_pop_in_region(1960)\n",
        "```\n",
        "> <table class=\"dataframe\" border=\"1\">\n",
        "  <thead>\n",
        "    <tr style=\"text-align: right;\">\n",
        "      <th></th>\n",
        "      <th>1960</th>\n",
        "    </tr>\n",
        "    <tr>\n",
        "      <th>Region</th>\n",
        "      <th></th>\n",
        "    </tr>\n",
        "  </thead>\n",
        "  <tbody>\n",
        "    <tr>\n",
        "      <th>East Asia &amp; Pacific</th>\n",
        "      <td>1.029333e+09</td>\n",
        "    </tr>\n",
        "    <tr>\n",
        "      <th>Europe &amp; Central Asia</th>\n",
        "      <td>6.606384e+08</td>\n",
        "    </tr>\n",
        "    <tr>\n",
        "      <th>Latin America &amp; Caribbean</th>\n",
        "      <td>2.204347e+08</td>\n",
        "    </tr>\n",
        "    <tr>\n",
        "      <th>Middle East &amp; North Africa</th>\n",
        "      <td>1.054887e+08</td>\n",
        "    </tr>\n",
        "    <tr>\n",
        "      <th>North America</th>\n",
        "      <td>1.986244e+08</td>\n",
        "    </tr>\n",
        "    <tr>\n",
        "      <th>South Asia</th>\n",
        "      <td>5.718357e+08</td>\n",
        "    </tr>\n",
        "    <tr>\n",
        "      <th>Sub-Saharan Africa</th>\n",
        "      <td>2.285860e+08</td>\n",
        "    </tr>\n",
        "  </tbody>\n",
        "</table>\n",
        "\n",
        "```python\n",
        "total_pop_in_region(2016)\n",
        "```\n",
        "> <table class=\"dataframe\" border=\"1\">\n",
        "  <thead>\n",
        "    <tr style=\"text-align: right;\">\n",
        "      <th></th>\n",
        "      <th>2016</th>\n",
        "    </tr>\n",
        "    <tr>\n",
        "      <th>Region</th>\n",
        "      <th></th>\n",
        "    </tr>\n",
        "  </thead>\n",
        "  <tbody>\n",
        "    <tr>\n",
        "      <th>East Asia &amp; Pacific</th>\n",
        "      <td>2.275219e+09</td>\n",
        "    </tr>\n",
        "    <tr>\n",
        "      <th>Europe &amp; Central Asia</th>\n",
        "      <td>9.116863e+08</td>\n",
        "    </tr>\n",
        "    <tr>\n",
        "      <th>Latin America &amp; Caribbean</th>\n",
        "      <td>6.376639e+08</td>\n",
        "    </tr>\n",
        "    <tr>\n",
        "      <th>Middle East &amp; North Africa</th>\n",
        "      <td>4.367380e+08</td>\n",
        "    </tr>\n",
        "    <tr>\n",
        "      <th>North America</th>\n",
        "      <td>3.597359e+08</td>\n",
        "    </tr>\n",
        "    <tr>\n",
        "      <th>South Asia</th>\n",
        "      <td>1.766394e+09</td>\n",
        "    </tr>\n",
        "    <tr>\n",
        "      <th>Sub-Saharan Africa</th>\n",
        "      <td>1.028258e+09</td>\n",
        "    </tr>\n",
        "  </tbody>\n",
        "</table>"
      ]
    },
    {
      "metadata": {
        "id": "shc-XpuGg9mV",
        "colab_type": "text"
      },
      "cell_type": "markdown",
      "source": [
        "_**Expected Outputs:**_\n",
        "```python\n",
        "total_pop_in_region(1960)\n",
        "```\n",
        "> <table class=\"dataframe\" border=\"1\">\n",
        "  <thead>\n",
        "    <tr style=\"text-align: right;\">\n",
        "      <th></th>\n",
        "      <th>1960</th>\n",
        "    </tr>\n",
        "    <tr>\n",
        "      <th>Region</th>\n",
        "      <th></th>\n",
        "    </tr>\n",
        "  </thead>\n",
        "  <tbody>\n",
        "    <tr>\n",
        "      <th>East Asia &amp; Pacific</th>\n",
        "      <td>1.029333e+09</td>\n",
        "    </tr>\n",
        "    <tr>\n",
        "      <th>Europe &amp; Central Asia</th>\n",
        "      <td>6.606384e+08</td>\n",
        "    </tr>\n",
        "    <tr>\n",
        "      <th>Latin America &amp; Caribbean</th>\n",
        "      <td>2.204347e+08</td>\n",
        "    </tr>\n",
        "    <tr>\n",
        "      <th>Middle East &amp; North Africa</th>\n",
        "      <td>1.054887e+08</td>\n",
        "    </tr>\n",
        "    <tr>\n",
        "      <th>North America</th>\n",
        "      <td>1.986244e+08</td>\n",
        "    </tr>\n",
        "    <tr>\n",
        "      <th>South Asia</th>\n",
        "      <td>5.718357e+08</td>\n",
        "    </tr>\n",
        "    <tr>\n",
        "      <th>Sub-Saharan Africa</th>\n",
        "      <td>2.285860e+08</td>\n",
        "    </tr>\n",
        "  </tbody>\n",
        "</table>\n",
        "\n",
        "```python\n",
        "total_pop_in_region(2016)\n",
        "```\n",
        "> <table class=\"dataframe\" border=\"1\">\n",
        "  <thead>\n",
        "    <tr style=\"text-align: right;\">\n",
        "      <th></th>\n",
        "      <th>2016</th>\n",
        "    </tr>\n",
        "    <tr>\n",
        "      <th>Region</th>\n",
        "      <th></th>\n",
        "    </tr>\n",
        "  </thead>\n",
        "  <tbody>\n",
        "    <tr>\n",
        "      <th>East Asia &amp; Pacific</th>\n",
        "      <td>2.275219e+09</td>\n",
        "    </tr>\n",
        "    <tr>\n",
        "      <th>Europe &amp; Central Asia</th>\n",
        "      <td>9.116863e+08</td>\n",
        "    </tr>\n",
        "    <tr>\n",
        "      <th>Latin America &amp; Caribbean</th>\n",
        "      <td>6.376639e+08</td>\n",
        "    </tr>\n",
        "    <tr>\n",
        "      <th>Middle East &amp; North Africa</th>\n",
        "      <td>4.367380e+08</td>\n",
        "    </tr>\n",
        "    <tr>\n",
        "      <th>North America</th>\n",
        "      <td>3.597359e+08</td>\n",
        "    </tr>\n",
        "    <tr>\n",
        "      <th>South Asia</th>\n",
        "      <td>1.766394e+09</td>\n",
        "    </tr>\n",
        "    <tr>\n",
        "      <th>Sub-Saharan Africa</th>\n",
        "      <td>1.028258e+09</td>\n",
        "    </tr>\n",
        "  </tbody>\n",
        "</table>"
      ]
    },
    {
      "metadata": {
        "id": "cJvxlhgAg9mV",
        "colab_type": "text"
      },
      "cell_type": "markdown",
      "source": [
        "## Section 3"
      ]
    },
    {
      "metadata": {
        "id": "vwmKzLslg9mX",
        "colab_type": "text"
      },
      "cell_type": "markdown",
      "source": [
        "### Question 8.1"
      ]
    },
    {
      "metadata": {
        "id": "QYe6x8UTg9mY",
        "colab_type": "text"
      },
      "cell_type": "markdown",
      "source": [
        "Write a function that returns the global yearly population `Growth`, grouped by the `Income Group` and `Year`.\n",
        "\n",
        "_**Function Specifications**_\n",
        "* Should not take any inputs.\n",
        "* The years are currently presented as the heading of each row in the population table. The table will have to be melted to produce the appropriate format. You can use `df.melt` to do this, where the variable name should be `Year` and the value name should be `Growth`.\n",
        "* Should group by the `Year` and `Income Group`.\n",
        "* Should only have one column named `Growth`.\n",
        "* The `Income Group` and the `Year` should be indices.\n",
        "* The `Growth` is calculated by taking the yearly difference and dividing it by the total population for each year, multiplied by 100.\n",
        "* Should return a `DataFrame`."
      ]
    },
    {
      "metadata": {
        "id": "DT8Xpdjbg9mY",
        "colab_type": "code",
        "colab": {}
      },
      "cell_type": "code",
      "source": [
        "def population_difference_by_income():\n",
        "    df1 = pd.DataFrame(country_map_df)\n",
        "    df2 = pd.DataFrame(meta_df)\n",
        "    df3 = pd.DataFrame(population_df)\n",
        "    df4 = pd.merge(df3, df2, on='Country Code')\n",
        "    \n",
        "    df4 = pd.melt(df4, id_vars=['Income Group', 'Special Notes', 'Region'], var_name='Year', value_name='Growth')\n",
        "    df4 = df4.drop(['Special Notes','Region'],axis=1)\n",
        "    df4 = df4.groupby(['Income Group','Year'])[['Growth']].sum()\n",
        "    df4['Growth'] = df4['Growth'].diff()/df4['Growth']*100\n",
        "    #df4.set_index(['Income Group','Year']\t,inplace=True)\n",
        "  \n",
        "    return df4"
      ],
      "execution_count": 0,
      "outputs": []
    },
    {
      "metadata": {
        "id": "NvmbWqWkg9ma",
        "colab_type": "code",
        "colab": {
          "base_uri": "https://localhost:8080/",
          "height": 235
        },
        "outputId": "505304bb-6a49-4cb2-c54d-b76fd6dc0953"
      },
      "cell_type": "code",
      "source": [
        "population_difference_by_income().head()"
      ],
      "execution_count": 306,
      "outputs": [
        {
          "output_type": "execute_result",
          "data": {
            "text/html": [
              "<div>\n",
              "<style scoped>\n",
              "    .dataframe tbody tr th:only-of-type {\n",
              "        vertical-align: middle;\n",
              "    }\n",
              "\n",
              "    .dataframe tbody tr th {\n",
              "        vertical-align: top;\n",
              "    }\n",
              "\n",
              "    .dataframe thead th {\n",
              "        text-align: right;\n",
              "    }\n",
              "</style>\n",
              "<table border=\"1\" class=\"dataframe\">\n",
              "  <thead>\n",
              "    <tr style=\"text-align: right;\">\n",
              "      <th></th>\n",
              "      <th></th>\n",
              "      <th>Growth</th>\n",
              "    </tr>\n",
              "    <tr>\n",
              "      <th>Income Group</th>\n",
              "      <th>Year</th>\n",
              "      <th></th>\n",
              "    </tr>\n",
              "  </thead>\n",
              "  <tbody>\n",
              "    <tr>\n",
              "      <th rowspan=\"5\" valign=\"top\">High income</th>\n",
              "      <th>1960</th>\n",
              "      <td>NaN</td>\n",
              "    </tr>\n",
              "    <tr>\n",
              "      <th>1961</th>\n",
              "      <td>1.450978</td>\n",
              "    </tr>\n",
              "    <tr>\n",
              "      <th>1962</th>\n",
              "      <td>1.261630</td>\n",
              "    </tr>\n",
              "    <tr>\n",
              "      <th>1963</th>\n",
              "      <td>1.235893</td>\n",
              "    </tr>\n",
              "    <tr>\n",
              "      <th>1964</th>\n",
              "      <td>1.207633</td>\n",
              "    </tr>\n",
              "  </tbody>\n",
              "</table>\n",
              "</div>"
            ],
            "text/plain": [
              "                     Growth\n",
              "Income Group Year          \n",
              "High income  1960       NaN\n",
              "             1961  1.450978\n",
              "             1962  1.261630\n",
              "             1963  1.235893\n",
              "             1964  1.207633"
            ]
          },
          "metadata": {
            "tags": []
          },
          "execution_count": 306
        }
      ]
    },
    {
      "metadata": {
        "id": "DrgOIJJCg9mc",
        "colab_type": "text"
      },
      "cell_type": "markdown",
      "source": [
        "_**Expected Output:**_\n",
        "```python\n",
        "population_difference_by_income().head()\n",
        "```\n",
        "> <table class=\"dataframe\" border=\"1\">\n",
        "  <thead>\n",
        "    <tr style=\"text-align: right;\">\n",
        "      <th></th>\n",
        "      <th></th>\n",
        "      <th>Growth</th>\n",
        "    </tr>\n",
        "    <tr>\n",
        "      <th>Income Group</th>\n",
        "      <th>Year</th>\n",
        "      <th></th>\n",
        "    </tr>\n",
        "  </thead>\n",
        "  <tbody>\n",
        "    <tr>\n",
        "      <th rowspan=\"5\" valign=\"top\">High income</th>\n",
        "      <th>1960</th>\n",
        "      <td>NaN</td>\n",
        "    </tr>\n",
        "    <tr>\n",
        "      <th>1961</th>\n",
        "      <td>1.450978</td>\n",
        "    </tr>\n",
        "    <tr>\n",
        "      <th>1962</th>\n",
        "      <td>1.261630</td>\n",
        "    </tr>\n",
        "    <tr>\n",
        "      <th>1963</th>\n",
        "      <td>1.235893</td>\n",
        "    </tr>\n",
        "    <tr>\n",
        "      <th>1964</th>\n",
        "      <td>1.207633</td>\n",
        "    </tr>\n",
        "  </tbody>\n",
        "</table>"
      ]
    },
    {
      "metadata": {
        "id": "i3cwpifYg9md",
        "colab_type": "text"
      },
      "cell_type": "markdown",
      "source": [
        "### Question 8.2"
      ]
    },
    {
      "metadata": {
        "id": "S1Y1ih3mg9me",
        "colab_type": "text"
      },
      "cell_type": "markdown",
      "source": [
        "Using the function you just created, write a function that returns the average population _growth_ over all years for a given income group. \n",
        "\n",
        "_**Function Specifications:**_\n",
        "* Should take as input a `str` as the income group.\n",
        "* Should raise a `ValueError` if the input is not a valid income group.\n",
        "* Should return a `float`, rounded to 2 decimal places."
      ]
    },
    {
      "metadata": {
        "id": "Mwp4dd1Fg9me",
        "colab_type": "code",
        "colab": {}
      },
      "cell_type": "code",
      "source": [
        "def ave_growth_by_income(income_group):\n",
        "    if (income_group == 'High income') or (income_group == 'Low income') or (income_group == 'Upper middle income') or (income_group == 'Lower middle income') == True:\n",
        "        pass\n",
        "    else:\n",
        "        raise ValueError('Not valid input string')\n",
        "        \n",
        "    df = pd.DataFrame(population_difference_by_income())\n",
        "    df1 = pd.DataFrame() \n",
        "    df1 = df[df.index.get_level_values(0) == income_group][['Growth']].mean()\n",
        "\n",
        "    return np.round(df1.values[0],2)"
      ],
      "execution_count": 0,
      "outputs": []
    },
    {
      "metadata": {
        "id": "5TeDQ6JBg9mi",
        "colab_type": "code",
        "colab": {
          "base_uri": "https://localhost:8080/",
          "height": 34
        },
        "outputId": "bf13662f-94ff-4801-c701-b7c69760a772"
      },
      "cell_type": "code",
      "source": [
        "ave_growth_by_income('High income') == 0.81"
      ],
      "execution_count": 359,
      "outputs": [
        {
          "output_type": "execute_result",
          "data": {
            "text/plain": [
              "True"
            ]
          },
          "metadata": {
            "tags": []
          },
          "execution_count": 359
        }
      ]
    },
    {
      "metadata": {
        "id": "8ir5gb-yg9mk",
        "colab_type": "text"
      },
      "cell_type": "markdown",
      "source": [
        "_**Expected Outputs:**_\n",
        "```python\n",
        "ave_growth_by_income('High income') == 0.81\n",
        "ave_growth_by_income('Low income') == -8.46\n",
        "```"
      ]
    },
    {
      "metadata": {
        "id": "oCrVj4cOg9ml",
        "colab_type": "code",
        "colab": {}
      },
      "cell_type": "code",
      "source": [
        ""
      ],
      "execution_count": 0,
      "outputs": []
    }
  ]
}