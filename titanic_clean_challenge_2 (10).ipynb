{
  "nbformat": 4,
  "nbformat_minor": 0,
  "metadata": {
    "colab": {
      "name": "titanic_clean_challenge_2.ipynb",
      "version": "0.3.2",
      "provenance": [],
      "collapsed_sections": []
    },
    "language_info": {
      "codemirror_mode": {
        "name": "ipython",
        "version": 3
      },
      "file_extension": ".py",
      "mimetype": "text/x-python",
      "name": "python",
      "nbconvert_exporter": "python",
      "pygments_lexer": "ipython3",
      "version": "3.7.3"
    },
    "kernelspec": {
      "display_name": "Python 3",
      "language": "python",
      "name": "python3"
    }
  },
  "cells": [
    {
      "cell_type": "markdown",
      "metadata": {
        "id": "nF-tgyYhdVod",
        "colab_type": "text"
      },
      "source": [
        "# Regression Coding Challenge 2: Pre-processing the Raw Titanic Dataset\n",
        "\n",
        "Within yesterday's challenge, we began our journey towards creating a regression model capable of predicting the survivors of the historic sinking of the Titanic. \n",
        "\n",
        "For today's challenge, we expand upon this exploration by cleaning our data and performing feature engineering; ensuring that it is ready for use in various modelling strategies.  \n",
        "\n",
        "<br></br>\n",
        "\n",
        "<div align=\"center\" style=\"width: 600px; font-size: 80%; text-align: center; margin: 0 auto\">\n",
        "<img src=\"https://i.kinja-img.com/gawker-media/image/upload/fhygjbyvm8rorm1uyg6s.jpg\"\n",
        "     alt=\"Barnicles on your ship :( \"\n",
        "     style=\"float: center; padding-bottom=0.5em\"\n",
        "     width=600px/>\n",
        "Time to clean some ship data!\n",
        "</div>\n",
        "\n",
        "\n",
        "## Pre-requisites \n",
        "\n",
        "Before getting your hands dirty in this challenge (or erm... cleaning them), please ensure that the following steps have been taken:\n",
        "\n",
        " 1. You have completed _Regression Coding Challenge 1_. The coding challenges are designed to build upon one another, mimicking a process you will follow for most of your data science projects. \n",
        " \n",
        " 2. You have reviewed and are comfortable with the Titanic dataset contents. A further description of each field within the dataset can be found [here](https://www.kaggle.com/c/titanic/data)\n",
        " \n",
        "With these steps out of the way, we're ready to begin!\n",
        "\n",
        "### Imports "
      ]
    },
    {
      "cell_type": "code",
      "metadata": {
        "id": "3SpovDpydVoh",
        "colab_type": "code",
        "colab": {}
      },
      "source": [
        "import numpy as np\n",
        "import pandas as pd\n",
        "import seaborn as sns\n",
        "import matplotlib.pyplot as plt"
      ],
      "execution_count": 0,
      "outputs": []
    },
    {
      "cell_type": "markdown",
      "metadata": {
        "id": "75ANzR_fdVop",
        "colab_type": "text"
      },
      "source": [
        "### Data Review"
      ]
    },
    {
      "cell_type": "code",
      "metadata": {
        "id": "oed43wTGdVor",
        "colab_type": "code",
        "colab": {}
      },
      "source": [
        "train_df = pd.read_csv('https://raw.githubusercontent.com/Explore-AI/Public-Data/master/Data/regression_sprint/titanic_train_raw.csv')\n",
        "test_df = pd.read_csv('https://raw.githubusercontent.com/Explore-AI/Public-Data/master/Data/regression_sprint/titanic_test_raw.csv')"
      ],
      "execution_count": 0,
      "outputs": []
    },
    {
      "cell_type": "code",
      "metadata": {
        "id": "11uloLr4dVov",
        "colab_type": "code",
        "outputId": "f7dc85ee-e639-4d2c-8db8-89bdae809d6d",
        "colab": {
          "base_uri": "https://localhost:8080/",
          "height": 204
        }
      },
      "source": [
        "train_df.head()"
      ],
      "execution_count": 22,
      "outputs": [
        {
          "output_type": "execute_result",
          "data": {
            "text/html": [
              "<div>\n",
              "<style scoped>\n",
              "    .dataframe tbody tr th:only-of-type {\n",
              "        vertical-align: middle;\n",
              "    }\n",
              "\n",
              "    .dataframe tbody tr th {\n",
              "        vertical-align: top;\n",
              "    }\n",
              "\n",
              "    .dataframe thead th {\n",
              "        text-align: right;\n",
              "    }\n",
              "</style>\n",
              "<table border=\"1\" class=\"dataframe\">\n",
              "  <thead>\n",
              "    <tr style=\"text-align: right;\">\n",
              "      <th></th>\n",
              "      <th>PassengerId</th>\n",
              "      <th>Survived</th>\n",
              "      <th>Pclass</th>\n",
              "      <th>Name</th>\n",
              "      <th>Sex</th>\n",
              "      <th>Age</th>\n",
              "      <th>SibSp</th>\n",
              "      <th>Parch</th>\n",
              "      <th>Ticket</th>\n",
              "      <th>Fare</th>\n",
              "      <th>Cabin</th>\n",
              "      <th>Embarked</th>\n",
              "    </tr>\n",
              "  </thead>\n",
              "  <tbody>\n",
              "    <tr>\n",
              "      <th>0</th>\n",
              "      <td>1</td>\n",
              "      <td>0</td>\n",
              "      <td>3</td>\n",
              "      <td>Braund, Mr. Owen Harris</td>\n",
              "      <td>male</td>\n",
              "      <td>22.0</td>\n",
              "      <td>1</td>\n",
              "      <td>0</td>\n",
              "      <td>A/5 21171</td>\n",
              "      <td>7.2500</td>\n",
              "      <td>NaN</td>\n",
              "      <td>S</td>\n",
              "    </tr>\n",
              "    <tr>\n",
              "      <th>1</th>\n",
              "      <td>2</td>\n",
              "      <td>1</td>\n",
              "      <td>1</td>\n",
              "      <td>Cumings, Mrs. John Bradley (Florence Briggs Th...</td>\n",
              "      <td>female</td>\n",
              "      <td>38.0</td>\n",
              "      <td>1</td>\n",
              "      <td>0</td>\n",
              "      <td>PC 17599</td>\n",
              "      <td>71.2833</td>\n",
              "      <td>C85</td>\n",
              "      <td>C</td>\n",
              "    </tr>\n",
              "    <tr>\n",
              "      <th>2</th>\n",
              "      <td>3</td>\n",
              "      <td>1</td>\n",
              "      <td>3</td>\n",
              "      <td>Heikkinen, Miss. Laina</td>\n",
              "      <td>female</td>\n",
              "      <td>26.0</td>\n",
              "      <td>0</td>\n",
              "      <td>0</td>\n",
              "      <td>STON/O2. 3101282</td>\n",
              "      <td>7.9250</td>\n",
              "      <td>NaN</td>\n",
              "      <td>S</td>\n",
              "    </tr>\n",
              "    <tr>\n",
              "      <th>3</th>\n",
              "      <td>4</td>\n",
              "      <td>1</td>\n",
              "      <td>1</td>\n",
              "      <td>Futrelle, Mrs. Jacques Heath (Lily May Peel)</td>\n",
              "      <td>female</td>\n",
              "      <td>35.0</td>\n",
              "      <td>1</td>\n",
              "      <td>0</td>\n",
              "      <td>113803</td>\n",
              "      <td>53.1000</td>\n",
              "      <td>C123</td>\n",
              "      <td>S</td>\n",
              "    </tr>\n",
              "    <tr>\n",
              "      <th>4</th>\n",
              "      <td>5</td>\n",
              "      <td>0</td>\n",
              "      <td>3</td>\n",
              "      <td>Allen, Mr. William Henry</td>\n",
              "      <td>male</td>\n",
              "      <td>35.0</td>\n",
              "      <td>0</td>\n",
              "      <td>0</td>\n",
              "      <td>373450</td>\n",
              "      <td>8.0500</td>\n",
              "      <td>NaN</td>\n",
              "      <td>S</td>\n",
              "    </tr>\n",
              "  </tbody>\n",
              "</table>\n",
              "</div>"
            ],
            "text/plain": [
              "   PassengerId  Survived  Pclass  ...     Fare Cabin  Embarked\n",
              "0            1         0       3  ...   7.2500   NaN         S\n",
              "1            2         1       1  ...  71.2833   C85         C\n",
              "2            3         1       3  ...   7.9250   NaN         S\n",
              "3            4         1       1  ...  53.1000  C123         S\n",
              "4            5         0       3  ...   8.0500   NaN         S\n",
              "\n",
              "[5 rows x 12 columns]"
            ]
          },
          "metadata": {
            "tags": []
          },
          "execution_count": 22
        }
      ]
    },
    {
      "cell_type": "code",
      "metadata": {
        "id": "CTjcIe3wdVo2",
        "colab_type": "code",
        "outputId": "ccd3814e-1fe8-4aba-f5d4-b83b37f7394d",
        "colab": {
          "base_uri": "https://localhost:8080/",
          "height": 204
        }
      },
      "source": [
        "test_df.head()"
      ],
      "execution_count": 23,
      "outputs": [
        {
          "output_type": "execute_result",
          "data": {
            "text/html": [
              "<div>\n",
              "<style scoped>\n",
              "    .dataframe tbody tr th:only-of-type {\n",
              "        vertical-align: middle;\n",
              "    }\n",
              "\n",
              "    .dataframe tbody tr th {\n",
              "        vertical-align: top;\n",
              "    }\n",
              "\n",
              "    .dataframe thead th {\n",
              "        text-align: right;\n",
              "    }\n",
              "</style>\n",
              "<table border=\"1\" class=\"dataframe\">\n",
              "  <thead>\n",
              "    <tr style=\"text-align: right;\">\n",
              "      <th></th>\n",
              "      <th>PassengerId</th>\n",
              "      <th>Pclass</th>\n",
              "      <th>Name</th>\n",
              "      <th>Sex</th>\n",
              "      <th>Age</th>\n",
              "      <th>SibSp</th>\n",
              "      <th>Parch</th>\n",
              "      <th>Ticket</th>\n",
              "      <th>Fare</th>\n",
              "      <th>Cabin</th>\n",
              "      <th>Embarked</th>\n",
              "    </tr>\n",
              "  </thead>\n",
              "  <tbody>\n",
              "    <tr>\n",
              "      <th>0</th>\n",
              "      <td>892</td>\n",
              "      <td>3</td>\n",
              "      <td>Kelly, Mr. James</td>\n",
              "      <td>male</td>\n",
              "      <td>34.5</td>\n",
              "      <td>0</td>\n",
              "      <td>0</td>\n",
              "      <td>330911</td>\n",
              "      <td>7.8292</td>\n",
              "      <td>NaN</td>\n",
              "      <td>Q</td>\n",
              "    </tr>\n",
              "    <tr>\n",
              "      <th>1</th>\n",
              "      <td>893</td>\n",
              "      <td>3</td>\n",
              "      <td>Wilkes, Mrs. James (Ellen Needs)</td>\n",
              "      <td>female</td>\n",
              "      <td>47.0</td>\n",
              "      <td>1</td>\n",
              "      <td>0</td>\n",
              "      <td>363272</td>\n",
              "      <td>7.0000</td>\n",
              "      <td>NaN</td>\n",
              "      <td>S</td>\n",
              "    </tr>\n",
              "    <tr>\n",
              "      <th>2</th>\n",
              "      <td>894</td>\n",
              "      <td>2</td>\n",
              "      <td>Myles, Mr. Thomas Francis</td>\n",
              "      <td>male</td>\n",
              "      <td>62.0</td>\n",
              "      <td>0</td>\n",
              "      <td>0</td>\n",
              "      <td>240276</td>\n",
              "      <td>9.6875</td>\n",
              "      <td>NaN</td>\n",
              "      <td>Q</td>\n",
              "    </tr>\n",
              "    <tr>\n",
              "      <th>3</th>\n",
              "      <td>895</td>\n",
              "      <td>3</td>\n",
              "      <td>Wirz, Mr. Albert</td>\n",
              "      <td>male</td>\n",
              "      <td>27.0</td>\n",
              "      <td>0</td>\n",
              "      <td>0</td>\n",
              "      <td>315154</td>\n",
              "      <td>8.6625</td>\n",
              "      <td>NaN</td>\n",
              "      <td>S</td>\n",
              "    </tr>\n",
              "    <tr>\n",
              "      <th>4</th>\n",
              "      <td>896</td>\n",
              "      <td>3</td>\n",
              "      <td>Hirvonen, Mrs. Alexander (Helga E Lindqvist)</td>\n",
              "      <td>female</td>\n",
              "      <td>22.0</td>\n",
              "      <td>1</td>\n",
              "      <td>1</td>\n",
              "      <td>3101298</td>\n",
              "      <td>12.2875</td>\n",
              "      <td>NaN</td>\n",
              "      <td>S</td>\n",
              "    </tr>\n",
              "  </tbody>\n",
              "</table>\n",
              "</div>"
            ],
            "text/plain": [
              "   PassengerId  Pclass  ... Cabin Embarked\n",
              "0          892       3  ...   NaN        Q\n",
              "1          893       3  ...   NaN        S\n",
              "2          894       2  ...   NaN        Q\n",
              "3          895       3  ...   NaN        S\n",
              "4          896       3  ...   NaN        S\n",
              "\n",
              "[5 rows x 11 columns]"
            ]
          },
          "metadata": {
            "tags": []
          },
          "execution_count": 23
        }
      ]
    },
    {
      "cell_type": "markdown",
      "metadata": {
        "id": "_sb8VmhTdVo6",
        "colab_type": "text"
      },
      "source": [
        "## Question 1: Handling Missing Data\n",
        "\n",
        "Having a comprehensive view of our dataset afforded by its exploration, we are ready to begin the first step of cleaning our data by considering cases of missing values.\n",
        "\n",
        "### Question 1.1: Removing Features\n",
        "\n",
        "In Question 1 of Challenge 1, we learnt that certain columns within our dataset had a high percentage of missing values. While there are numerous ways of handling such missing data, sometimes it is appropriate to discard them altogether. \n",
        "\n",
        "With this in mind, write a function called `drop_columns` which removes a column from a pandas dataframe if the percentage of missing values is greater than a given `threshold` value. Alternatively, a user should also be able to provide a list of columns they manually would like to drop, irrespective of whether they are above or below the threshold.    \n",
        "\n",
        "***Function arguments:***\n",
        " - `input_df` -> input `Pandas` DataFrame.\n",
        " - `threshold`-> python `float`, `threshhold` $\\in [0, 100.0]$.\n",
        " - `drop_names` -> a Python `list` of `string` values corresponding to the columns to drop in `data_frame`.\n",
        "\n",
        "***Function Specifications:***\n",
        " - Name the function `drop_columns`\n",
        " - Must take any Pandas `DataFrame` as input and return a `DataFrame` as output.\n",
        " - Must remove one or more columns which exceed the drop threshold, or are manually specified. \n",
        " - If no columns exceed the threshold or are specified to be dropped manually, a dataframe identical to the input must be returned.  "
      ]
    },
    {
      "cell_type": "code",
      "metadata": {
        "id": "5-AFZd0ddVo7",
        "colab_type": "code",
        "colab": {}
      },
      "source": [
        "def drop_columns(input_df, threshold, drop_names=[]):\n",
        "  \n",
        "    data = input_df\n",
        "    df_cols = list(pd.DataFrame(data))\n",
        "    dict_x = {}\n",
        "    for i in range(0, len(df_cols)):\n",
        "      dict_x.update({df_cols[i]: round(data[df_cols[i]].isnull().mean()*100,1)})\n",
        "      \n",
        "    dfpercentM = dict_x\n",
        "    exceed_cols = []\n",
        "    \n",
        "    for col, thres in dfpercentM.items():\n",
        "      if thres > threshold:\n",
        "        exceed_cols.append(col)\n",
        "        \n",
        "    comb_cols = list(set(exceed_cols + drop_names))\n",
        "\n",
        "    input_df = input_df.drop(comb_cols, axis=1)\n",
        "    \n",
        "    return input_df"
      ],
      "execution_count": 0,
      "outputs": []
    },
    {
      "cell_type": "code",
      "metadata": {
        "scrolled": false,
        "id": "zRTVFfYXdVo9",
        "colab_type": "code",
        "colab": {
          "base_uri": "https://localhost:8080/",
          "height": 68
        },
        "outputId": "627e9768-218d-41d9-8c1c-bbec231dbcff"
      },
      "source": [
        "drop_columns(train_df, 10.0, drop_names=['Name', 'PassengerId']).columns"
      ],
      "execution_count": 25,
      "outputs": [
        {
          "output_type": "execute_result",
          "data": {
            "text/plain": [
              "Index(['Survived', 'Pclass', 'Sex', 'SibSp', 'Parch', 'Ticket', 'Fare',\n",
              "       'Embarked'],\n",
              "      dtype='object')"
            ]
          },
          "metadata": {
            "tags": []
          },
          "execution_count": 25
        }
      ]
    },
    {
      "cell_type": "markdown",
      "metadata": {
        "id": "DJmmwluPdVpB",
        "colab_type": "text"
      },
      "source": [
        "_**Expected Outputs:**_\n",
        "```python\n",
        "drop_columns(train_df, 100.0, drop_names=[]).columns == ['PassengerId','Survived','Pclass','Name',\n",
        "                                                         'Sex','Age','SibSp','Parch',\n",
        "                                                         'Ticket','Fare','Cabin','Embarked']\n",
        "\n",
        "drop_columns(train_df, 10.0, drop_names=['Name', 'PassengerId']).columns == ['Survived', 'Pclass',\n",
        "                                                                              'Sex','SibSp', 'Parch',\n",
        "                                                                              'Ticket','Fare', \n",
        "                                                                              'Embarked']\n",
        "```"
      ]
    },
    {
      "cell_type": "markdown",
      "metadata": {
        "id": "BSelRBFodVpC",
        "colab_type": "text"
      },
      "source": [
        "### Question 1.2: Data Imputation \n",
        "\n",
        "In Question 2 of Challenge 1, we saw that it is possible to replace or [impute](https://en.wikipedia.org/wiki/Imputation_(statistics)) missing data based on simple population statistics such as the mean and or median of the targeted feature.\n",
        "\n",
        "When a friend of yours hears that you are imputing the `'Age'` column by simply taking the *mean* or *median* of the non-missing data, she decides to show-off the following code which produces two telling plots:    "
      ]
    },
    {
      "cell_type": "code",
      "metadata": {
        "id": "mIPU6uRZdVpD",
        "colab_type": "code",
        "outputId": "74b8ce71-d0ac-4b4b-b8b3-dc98f5609042",
        "colab": {
          "base_uri": "https://localhost:8080/",
          "height": 354
        }
      },
      "source": [
        "plt.figure(figsize=(15,5))\n",
        "plt.subplot(1, 2, 1)\n",
        "sns.boxenplot(train_df['Pclass'], train_df['Age'], hue=train_df['Survived'])\n",
        "plt.subplot(1, 2, 2)\n",
        "sns.boxenplot(train_df['Sex'], train_df['Age'], hue=train_df['Survived'])"
      ],
      "execution_count": 26,
      "outputs": [
        {
          "output_type": "execute_result",
          "data": {
            "text/plain": [
              "<matplotlib.axes._subplots.AxesSubplot at 0x7f660f5a8cc0>"
            ]
          },
          "metadata": {
            "tags": []
          },
          "execution_count": 26
        },
        {
          "output_type": "display_data",
          "data": {
            "image/png": "[encoded data removed]",
            "text/plain": [
              "<Figure size 1080x360 with 2 Axes>"
            ]
          },
          "metadata": {
            "tags": []
          }
        }
      ]
    },
    {
      "cell_type": "code",
      "metadata": {
        "id": "-R6NyamsdVpH",
        "colab_type": "code",
        "outputId": "c1a4b050-561e-4462-91de-1e990e2f833f",
        "colab": {
          "base_uri": "https://localhost:8080/",
          "height": 458
        }
      },
      "source": [
        "grid = sns.FacetGrid(train_df, row='Pclass', col='Sex', height=2.0, aspect=3.0)\n",
        "grid.map(plt.hist, 'Age', bins=30)\n",
        "grid.add_legend()"
      ],
      "execution_count": 27,
      "outputs": [
        {
          "output_type": "execute_result",
          "data": {
            "text/plain": [
              "<seaborn.axisgrid.FacetGrid at 0x7f660f592e48>"
            ]
          },
          "metadata": {
            "tags": []
          },
          "execution_count": 27
        },
        {
          "output_type": "display_data",
          "data": {
            "image/png": "[encoded data removed]",
            "text/plain": [
              "<Figure size 872x432 with 6 Axes>"
            ]
          },
          "metadata": {
            "tags": []
          }
        }
      ]
    },
    {
      "cell_type": "markdown",
      "metadata": {
        "id": "lA_IVCvBdVpL",
        "colab_type": "text"
      },
      "source": [
        "Using these plots, your friend argues that there are correlations between the `'Pclass'`, `'Sex'` and `'Age'` features within the dataset, and that `'Age'` shows influence in predicting a given passenger's survival. \n",
        "\n",
        "Aware of this new knowledge, you decide to create a function, `conditional_impute`, which performs imputation upon an `age` column within a Pandas `DataFrame` based upon both `Sex` and `Pclass` columns. Given that you are uncertain which statistic best models your data, you decide to once again to add a `choice` parameter which allows either the *mean* or *median* to be used for imputing the data.   \n",
        "\n",
        "***Function arguments:***\n",
        " - `input_df` -> input `Pandas` DataFrame. \n",
        " - `choice`-> Python `string` of either `'mean'` or `'median'`. Default is `'median'`. \n",
        "\n",
        "***Function Specifications:***\n",
        " - Name the function `conditional_impute`\n",
        " - Must take a Pandas `DataFrame` as input and return a `DataFrame` as output.\n",
        " - Should impute `Age` values based upon the descriptive statistic method specified by `choice`.\n",
        " - Round all imputed answers to 1 decimal point. \n",
        " - If `choice` is not either `'mean'` or `'median'`,  a `ValueError` must be raised.  "
      ]
    },
    {
      "cell_type": "code",
      "metadata": {
        "id": "7VaRZ5hKdVpM",
        "colab_type": "code",
        "colab": {}
      },
      "source": [
        "def conditional_impute(input_dff, choice='median'):\n",
        "  input_df = pd.DataFrame(input_dff)\n",
        "  pd.options.mode.chained_assignment = None  # disable default='warn'\n",
        "  \n",
        "  data = pd.DataFrame(input_df)    \n",
        "  if choice not in ['mean','median']:\n",
        "    raise ValueError('choice is not mean or median')\n",
        "  elif choice == 'mean':\n",
        "    dfx = round(data.groupby(['Sex','Pclass'])[['Age']].mean(),1)\n",
        "  elif choice == 'median':\n",
        "    dfx = round(data.groupby(['Sex','Pclass'])[['Age']].median(),1)\n",
        "   \n",
        "  input_df.loc[input_df['Age'].isnull() == True, 'Age'] = 0\n",
        "\n",
        "  for i in range(0,len(input_df)):\n",
        "    if input_df.loc[i,'Sex'] == 'female':\n",
        "      if input_df.loc[i,'Pclass'] == 1:\n",
        "        y = dfx.Age[0]\n",
        "        if input_df.loc[i,'Age'] == 0:\n",
        "          input_df.Age[i] = y\n",
        "      elif input_df.loc[i,'Pclass'] == 2:\n",
        "        y = dfx.Age[1]\n",
        "        if input_df.loc[i,'Age'] == 0:\n",
        "          input_df.Age[i] = y\n",
        "      elif input_df.loc[i,'Pclass'] == 3:\n",
        "        y = dfx.Age[2]\n",
        "        if input_df.loc[i,'Age'] == 0:\n",
        "          input_df.Age[i] = y\n",
        "    elif input_df.loc[i,'Sex'] == 'male':\n",
        "      if input_df.loc[i,'Pclass'] == 1:\n",
        "        y = dfx.Age[3]\n",
        "        if input_df.loc[i,'Age'] == 0:\n",
        "          input_df.Age[i] = y\n",
        "      elif input_df.loc[i,'Pclass'] == 2:\n",
        "        y = dfx.Age[4]\n",
        "        if input_df.loc[i,'Age'] == 0:\n",
        "          input_df.Age[i] = y\n",
        "      elif input_df.loc[i,'Pclass'] == 3:\n",
        "        y = dfx.Age[5]\n",
        "        if input_df.loc[i,'Age'] == 0:\n",
        "          input_df.Age[i] = y\n",
        "          \n",
        "\n",
        "  return input_df"
      ],
      "execution_count": 0,
      "outputs": []
    },
    {
      "cell_type": "code",
      "metadata": {
        "id": "VL5HywfXdVpO",
        "colab_type": "code",
        "outputId": "bfea5929-55bb-46b8-be38-d02c4b77bf0f",
        "colab": {
          "base_uri": "https://localhost:8080/",
          "height": 204
        }
      },
      "source": [
        "conditional_impute(train_df, choice='mean')[['Name','Age']].tail()"
      ],
      "execution_count": 29,
      "outputs": [
        {
          "output_type": "execute_result",
          "data": {
            "text/html": [
              "<div>\n",
              "<style scoped>\n",
              "    .dataframe tbody tr th:only-of-type {\n",
              "        vertical-align: middle;\n",
              "    }\n",
              "\n",
              "    .dataframe tbody tr th {\n",
              "        vertical-align: top;\n",
              "    }\n",
              "\n",
              "    .dataframe thead th {\n",
              "        text-align: right;\n",
              "    }\n",
              "</style>\n",
              "<table border=\"1\" class=\"dataframe\">\n",
              "  <thead>\n",
              "    <tr style=\"text-align: right;\">\n",
              "      <th></th>\n",
              "      <th>Name</th>\n",
              "      <th>Age</th>\n",
              "    </tr>\n",
              "  </thead>\n",
              "  <tbody>\n",
              "    <tr>\n",
              "      <th>886</th>\n",
              "      <td>Montvila, Rev. Juozas</td>\n",
              "      <td>27.0</td>\n",
              "    </tr>\n",
              "    <tr>\n",
              "      <th>887</th>\n",
              "      <td>Graham, Miss. Margaret Edith</td>\n",
              "      <td>19.0</td>\n",
              "    </tr>\n",
              "    <tr>\n",
              "      <th>888</th>\n",
              "      <td>Johnston, Miss. Catherine Helen \"Carrie\"</td>\n",
              "      <td>21.8</td>\n",
              "    </tr>\n",
              "    <tr>\n",
              "      <th>889</th>\n",
              "      <td>Behr, Mr. Karl Howell</td>\n",
              "      <td>26.0</td>\n",
              "    </tr>\n",
              "    <tr>\n",
              "      <th>890</th>\n",
              "      <td>Dooley, Mr. Patrick</td>\n",
              "      <td>32.0</td>\n",
              "    </tr>\n",
              "  </tbody>\n",
              "</table>\n",
              "</div>"
            ],
            "text/plain": [
              "                                         Name   Age\n",
              "886                     Montvila, Rev. Juozas  27.0\n",
              "887              Graham, Miss. Margaret Edith  19.0\n",
              "888  Johnston, Miss. Catherine Helen \"Carrie\"  21.8\n",
              "889                     Behr, Mr. Karl Howell  26.0\n",
              "890                       Dooley, Mr. Patrick  32.0"
            ]
          },
          "metadata": {
            "tags": []
          },
          "execution_count": 29
        }
      ]
    },
    {
      "cell_type": "markdown",
      "metadata": {
        "id": "q6tJ8h5FdVpR",
        "colab_type": "text"
      },
      "source": [
        "_**Expected Outputs:**_\n",
        "```python\n",
        "conditional_impute(train_df, choice='median')[['Name','Age']].tail()\n",
        "\n",
        "```\n",
        "\n",
        "><table border=\"1\" class=\"dataframe\">  <thead>    <tr style=\"text-align: right;\">      <th></th>      <th>Name</th>      <th>Age</th>    </tr>  </thead>  <tbody>    <tr>      <th>886</th>      <td>Montvila, Rev. Juozas</td>      <td>27.0</td>    </tr>    <tr>      <th>887</th>      <td>Graham, Miss. Margaret Edith</td>      <td>19.0</td>    </tr>    <tr>      <th>888</th>      <td>Johnston, Miss. Catherine Helen \"Carrie\"</td>      <td>21.5</td>    </tr>    <tr>      <th>889</th>      <td>Behr, Mr. Karl Howell</td>      <td>26.0</td>    </tr>    <tr>      <th>890</th>      <td>Dooley, Mr. Patrick</td>      <td>32.0</td>    </tr>  </tbody></table>\n",
        "\n",
        "<br><br>\n",
        "\n",
        "```python\n",
        "conditional_impute(train_df, choice='mean')[['Name','Age']].tail()\n",
        "```\n",
        "\n",
        "> <table border=\"1\" class=\"dataframe\">  <thead>    <tr style=\"text-align: right;\">      <th></th>      <th>Name</th>      <th>Age</th>    </tr>  </thead>  <tbody>    <tr>      <th>886</th>      <td>Montvila, Rev. Juozas</td>      <td>27.0</td>    </tr>    <tr>      <th>887</th>      <td>Graham, Miss. Margaret Edith</td>      <td>19.0</td>    </tr>    <tr>      <th>888</th>      <td>Johnston, Miss. Catherine Helen \"Carrie\"</td>      <td>21.8</td>    </tr>    <tr>      <th>889</th>      <td>Behr, Mr. Karl Howell</td>      <td>26.0</td>    </tr>    <tr>      <th>890</th>      <td>Dooley, Mr. Patrick</td>      <td>32.0</td>    </tr>  </tbody></table>"
      ]
    },
    {
      "cell_type": "markdown",
      "metadata": {
        "id": "GSv8wxyzdVpS",
        "colab_type": "text"
      },
      "source": [
        "## Question 2: Feature Engineering \n",
        "\n",
        "Having considered missing data, we can now further prepare our dataset for use within a model by performing feature engineering.\n",
        "\n",
        "### Question 2.1: What's in a name?\n",
        "\n",
        "When you originally received the titanic dataset, you were excited to see the `Name` feature included, as you believed this might be another source of information to help infer a person's social status on the ship. To use this feature however, we need to extract an individual's _title_ from his/her name, as calling `train_df['Name'].unique().shape` tells us that every `Name` entry within our train dataset is currently unique. \n",
        "\n",
        "Go ahead and perform this transformation by writing a function called `extract_title`, which adds an extra `Title` column to our dataframe into which is placed a person's given title found within the `Name` column. \n",
        "\n",
        "Examples of title extraction; \n",
        " - `Braund, Mr. Owen Harris` maps to a title of `Mr.`\n",
        " - `Heikkinen, Miss. Laina` maps to a title of `Miss.`\n",
        "\n",
        "***Function arguments:***\n",
        " - `input_df` -> input `Pandas` DataFrame.\n",
        "\n",
        "***Function specifications:***\n",
        " - Name the function `extract_title`\n",
        " - Must take any Pandas `DataFrame` as input and return a `DataFrame` as output with an additional `Title` column.\n",
        " - Assume that `input_df` represents a DataFrame possessing a `'Name'` column, with each corresponding row entry being a `string`-based name containing exactly one title. \n",
        " - Assume that a title is represented by a word with two or more characters ending in a `.`"
      ]
    },
    {
      "cell_type": "code",
      "metadata": {
        "id": "Z4OYDcYvdVpT",
        "colab_type": "code",
        "colab": {}
      },
      "source": [
        "def extract_title(input_df):\n",
        "  my_df = pd.DataFrame(input_df)\n",
        "  x = input_df.Name.values\n",
        "  titles = []\n",
        "  \n",
        "  for i in range(0, len(x)):\n",
        "    inner_list = x[i].split(\" \")\n",
        "    for j in range(0, len(inner_list)-1):\n",
        "      if inner_list[j][-1] == '.'and len(inner_list[j]) > 2:\n",
        "        titles.append(inner_list[j])\n",
        "          \n",
        "  if len(titles) == len(input_df): \n",
        "    my_df['Title'] = titles\n",
        "    \n",
        "  return my_df"
      ],
      "execution_count": 0,
      "outputs": []
    },
    {
      "cell_type": "code",
      "metadata": {
        "id": "SWjB2uLCdVpW",
        "colab_type": "code",
        "outputId": "c9c2152d-2068-4271-d138-d965f3b0def9",
        "colab": {
          "base_uri": "https://localhost:8080/",
          "height": 68
        }
      },
      "source": [
        "extract_title(train_df)['Title'].unique()"
      ],
      "execution_count": 31,
      "outputs": [
        {
          "output_type": "execute_result",
          "data": {
            "text/plain": [
              "array(['Mr.', 'Mrs.', 'Miss.', 'Master.', 'Don.', 'Rev.', 'Dr.', 'Mme.',\n",
              "       'Ms.', 'Major.', 'Lady.', 'Sir.', 'Mlle.', 'Col.', 'Capt.',\n",
              "       'Countess.', 'Jonkheer.'], dtype=object)"
            ]
          },
          "metadata": {
            "tags": []
          },
          "execution_count": 31
        }
      ]
    },
    {
      "cell_type": "markdown",
      "metadata": {
        "id": "hWg7_T0ZdVpa",
        "colab_type": "text"
      },
      "source": [
        "_**Expected Outputs:**_\n",
        "```python\n",
        "\n",
        "extract_title(train_df)['Title'].unique() == ['Mr.', 'Mrs.', 'Miss.', 'Master.',\n",
        "                                              'Don.', 'Rev.', 'Dr.', 'Mme.','Ms.',\n",
        "                                              'Major.', 'Lady.', 'Sir.', 'Mlle.',\n",
        "                                              'Col.', 'Capt.','Countess.', 'Jonkheer.']\n",
        "\n",
        "\n",
        "extract_title(test_df)['Title'].unique() == ['Mr.', 'Mrs.', 'Miss.', 'Master.', \n",
        "                                             'Ms.', 'Col.', 'Rev.', 'Dr.','Dona.']\n",
        "\n",
        "``` "
      ]
    },
    {
      "cell_type": "markdown",
      "metadata": {
        "id": "1rG5HNt4dVpb",
        "colab_type": "text"
      },
      "source": [
        "### Question 2.2: Feature Selection\n",
        "\n",
        "Having your `'Title'` column prepared, you perform a quick examination to see the distribution of its categories with relation to the gender of a passenger.\n",
        "\n",
        "(***Note:*** Even if you weren't able to solve Q2.1, *we have imported the correct dataframe*, `title_df` in the code section beneath for your continued use.)"
      ]
    },
    {
      "cell_type": "code",
      "metadata": {
        "id": "_ySwZz-BdVpb",
        "colab_type": "code",
        "outputId": "6fffa8b4-2d49-46da-ae1c-4b2bb29b8da2",
        "colab": {
          "base_uri": "https://localhost:8080/",
          "height": 607
        }
      },
      "source": [
        "# Load the correct form of the train.csv for Q 2.2\n",
        "title_df = pd.read_csv('https://raw.githubusercontent.com/Explore-AI/Public-Data/master/Data/regression_sprint/titanic_train_title.csv')\n",
        "pd.crosstab(index=title_df['Title'], columns=title_df['Sex'])"
      ],
      "execution_count": 32,
      "outputs": [
        {
          "output_type": "execute_result",
          "data": {
            "text/html": [
              "<div>\n",
              "<style scoped>\n",
              "    .dataframe tbody tr th:only-of-type {\n",
              "        vertical-align: middle;\n",
              "    }\n",
              "\n",
              "    .dataframe tbody tr th {\n",
              "        vertical-align: top;\n",
              "    }\n",
              "\n",
              "    .dataframe thead th {\n",
              "        text-align: right;\n",
              "    }\n",
              "</style>\n",
              "<table border=\"1\" class=\"dataframe\">\n",
              "  <thead>\n",
              "    <tr style=\"text-align: right;\">\n",
              "      <th>Sex</th>\n",
              "      <th>female</th>\n",
              "      <th>male</th>\n",
              "    </tr>\n",
              "    <tr>\n",
              "      <th>Title</th>\n",
              "      <th></th>\n",
              "      <th></th>\n",
              "    </tr>\n",
              "  </thead>\n",
              "  <tbody>\n",
              "    <tr>\n",
              "      <th>Capt.</th>\n",
              "      <td>0</td>\n",
              "      <td>1</td>\n",
              "    </tr>\n",
              "    <tr>\n",
              "      <th>Col.</th>\n",
              "      <td>0</td>\n",
              "      <td>2</td>\n",
              "    </tr>\n",
              "    <tr>\n",
              "      <th>Countess.</th>\n",
              "      <td>1</td>\n",
              "      <td>0</td>\n",
              "    </tr>\n",
              "    <tr>\n",
              "      <th>Don.</th>\n",
              "      <td>0</td>\n",
              "      <td>1</td>\n",
              "    </tr>\n",
              "    <tr>\n",
              "      <th>Dr.</th>\n",
              "      <td>1</td>\n",
              "      <td>6</td>\n",
              "    </tr>\n",
              "    <tr>\n",
              "      <th>Jonkheer.</th>\n",
              "      <td>0</td>\n",
              "      <td>1</td>\n",
              "    </tr>\n",
              "    <tr>\n",
              "      <th>Lady.</th>\n",
              "      <td>1</td>\n",
              "      <td>0</td>\n",
              "    </tr>\n",
              "    <tr>\n",
              "      <th>Major.</th>\n",
              "      <td>0</td>\n",
              "      <td>2</td>\n",
              "    </tr>\n",
              "    <tr>\n",
              "      <th>Master.</th>\n",
              "      <td>0</td>\n",
              "      <td>40</td>\n",
              "    </tr>\n",
              "    <tr>\n",
              "      <th>Miss.</th>\n",
              "      <td>182</td>\n",
              "      <td>0</td>\n",
              "    </tr>\n",
              "    <tr>\n",
              "      <th>Mlle.</th>\n",
              "      <td>2</td>\n",
              "      <td>0</td>\n",
              "    </tr>\n",
              "    <tr>\n",
              "      <th>Mme.</th>\n",
              "      <td>1</td>\n",
              "      <td>0</td>\n",
              "    </tr>\n",
              "    <tr>\n",
              "      <th>Mr.</th>\n",
              "      <td>0</td>\n",
              "      <td>517</td>\n",
              "    </tr>\n",
              "    <tr>\n",
              "      <th>Mrs.</th>\n",
              "      <td>125</td>\n",
              "      <td>0</td>\n",
              "    </tr>\n",
              "    <tr>\n",
              "      <th>Ms.</th>\n",
              "      <td>1</td>\n",
              "      <td>0</td>\n",
              "    </tr>\n",
              "    <tr>\n",
              "      <th>Rev.</th>\n",
              "      <td>0</td>\n",
              "      <td>6</td>\n",
              "    </tr>\n",
              "    <tr>\n",
              "      <th>Sir.</th>\n",
              "      <td>0</td>\n",
              "      <td>1</td>\n",
              "    </tr>\n",
              "  </tbody>\n",
              "</table>\n",
              "</div>"
            ],
            "text/plain": [
              "Sex        female  male\n",
              "Title                  \n",
              "Capt.           0     1\n",
              "Col.            0     2\n",
              "Countess.       1     0\n",
              "Don.            0     1\n",
              "Dr.             1     6\n",
              "Jonkheer.       0     1\n",
              "Lady.           1     0\n",
              "Major.          0     2\n",
              "Master.         0    40\n",
              "Miss.         182     0\n",
              "Mlle.           2     0\n",
              "Mme.            1     0\n",
              "Mr.             0   517\n",
              "Mrs.          125     0\n",
              "Ms.             1     0\n",
              "Rev.            0     6\n",
              "Sir.            0     1"
            ]
          },
          "metadata": {
            "tags": []
          },
          "execution_count": 32
        }
      ]
    },
    {
      "cell_type": "markdown",
      "metadata": {
        "id": "9eq43xfBdVpi",
        "colab_type": "text"
      },
      "source": [
        "From this observation, you realise that a just small group of categories represent a considerable majority of datapoints within the column. Using this outcome in your favour, you decide to only preserve the titles of `['Mr.' , 'Mrs.' , 'Master.', 'Miss.']` and to group the remaining items into a single category called `'Uncommon'`. \n",
        "\n",
        "\n",
        "To accomplish your objective, write a function called `group_titles` which takes in your dataframe containing the `Title` column, along with a selection of `preserved_titles`, and returns the dataframe with the modified `Title` column in which the updated groupings are reflected.\n",
        "\n",
        "***Function arguments:***\n",
        " - `input_df` -> input `Pandas` DataFrame.\n",
        " - `preserved_titles` -> A 1-D `list` of Python `strings` representing the categories of titles to be preserved. The remaining categories are grouped together as the new `'Uncommon'` category. \n",
        "\n",
        "***Function specifications:***\n",
        " - Name the function `group_titles`\n",
        " - Must take any Pandas `DataFrame` as input and return a `DataFrame` with the `Title` column containing newly regrouped categories.\n",
        " - Assume that `input_df` represents a DataFrame possessing a `'Title'` column, with each corresponding row entry being a `string`-based title. "
      ]
    },
    {
      "cell_type": "code",
      "metadata": {
        "id": "rUpexQUGdVpi",
        "colab_type": "code",
        "colab": {}
      },
      "source": [
        "def group_titles(input_dff, preserved_titles):\n",
        "    input_df = pd.DataFrame(input_dff)\n",
        "    x = input_df.Title.values\n",
        "    new_title = []\n",
        "    for i in x:\n",
        "      if i not in preserved_titles:\n",
        "        new_title.append('Uncommon')\n",
        "      else:\n",
        "        new_title.append(i)\n",
        "        \n",
        "    input_df['Title'] = new_title\n",
        "    \n",
        "    return input_df"
      ],
      "execution_count": 0,
      "outputs": []
    },
    {
      "cell_type": "code",
      "metadata": {
        "id": "p79Hx2rSdVpm",
        "colab_type": "code",
        "outputId": "a3189b1c-212b-4a7d-d39e-883f3d9ffbe5",
        "colab": {
          "base_uri": "https://localhost:8080/",
          "height": 34
        }
      },
      "source": [
        "group_titles(title_df, preserved_titles=['Miss.', 'Master.'])['Title'].unique()"
      ],
      "execution_count": 34,
      "outputs": [
        {
          "output_type": "execute_result",
          "data": {
            "text/plain": [
              "array(['Uncommon', 'Miss.', 'Master.'], dtype=object)"
            ]
          },
          "metadata": {
            "tags": []
          },
          "execution_count": 34
        }
      ]
    },
    {
      "cell_type": "markdown",
      "metadata": {
        "id": "DRLk3n7vdVpq",
        "colab_type": "text"
      },
      "source": [
        "_**Expected Outputs:**_\n",
        "```python\n",
        "group_titles(title_df, preserved_titles=['Mr.', 'Mrs.', 'Miss.', 'Master.'])['Title'].unique() == \n",
        "['Mr.', 'Mrs.', 'Miss.', 'Master.', 'Uncommon']\n",
        "\n",
        "group_titles(title_df, preserved_titles=['Miss.', 'Master.'])['Title'].unique() == \n",
        "['Uncommon', 'Miss.', 'Master.']\n",
        "```"
      ]
    },
    {
      "cell_type": "markdown",
      "metadata": {
        "id": "EQsXVdtWdVps",
        "colab_type": "text"
      },
      "source": [
        "### Question 2.3: Feature Encoding\n",
        "\n",
        "Finally, you further decide that it's time to encode your new categorical features within the `'Title'` column using [dummy variables.](https://en.wikipedia.org/wiki/Dummy_variable_(statistics)) \n",
        "\n",
        "Write a function called `encode_titles` which encodes the various categories contained within the `Title` column of an input DataFrame as numerically-based dummy variables. \n",
        "\n",
        "***Function arguments:***\n",
        " - `input_df` -> input `Pandas` DataFrame.\n",
        "\n",
        "***Function specifications:***\n",
        " - Name the function `encode_titles`\n",
        " - Must take any Pandas `DataFrame` as input and return a `DataFrame` as output with an expanded set of columns representing dummy variables corresponding to the newly regrouped `Title` categories.\n",
        " - Assume that `input_df` represents a DataFrame possessing a `'Title'` column, with each corresponding row entry being a `string`-based title. \n",
        " - **NB!** Ensure that your dummy encoding avoids the [dummy variable trap](https://stattrek.com/multiple-regression/dummy-variables.aspx). As a ***hint***, look at the documentation for the Pandas [get_dummies()](https://pandas.pydata.org/pandas-docs/stable/reference/api/pandas.get_dummies.html) function.\n",
        "\n",
        "(***Note:*** Even if you weren't able to solve Q2.2, *we have imported the correct dataframe*, `title_regrouped_df` in the code section beneath for your continued use.)"
      ]
    },
    {
      "cell_type": "code",
      "metadata": {
        "id": "g3ehC4f8dVpt",
        "colab_type": "code",
        "colab": {}
      },
      "source": [
        "# Load the correct form of the train.csv for Q 2.2\n",
        "title_regrouped_df = pd.read_csv('https://raw.githubusercontent.com/Explore-AI/Public-Data/master/Data/regression_sprint/titanic_train_title_regrouped.csv')"
      ],
      "execution_count": 0,
      "outputs": []
    },
    {
      "cell_type": "markdown",
      "metadata": {
        "id": "ueGWTFyzdVpv",
        "colab_type": "text"
      },
      "source": [
        "Function implementation:"
      ]
    },
    {
      "cell_type": "code",
      "metadata": {
        "id": "AizxeaGgdVpw",
        "colab_type": "code",
        "colab": {}
      },
      "source": [
        "def encode_titles(input_dff):\n",
        "    input_df = pd.DataFrame(input_dff)\n",
        "    input_df = pd.get_dummies(input_df, columns=[\"Title\"], drop_first=True)\n",
        "    \n",
        "    return input_df"
      ],
      "execution_count": 0,
      "outputs": []
    },
    {
      "cell_type": "code",
      "metadata": {
        "id": "ha5HofhxdVpz",
        "colab_type": "code",
        "outputId": "fa56bc7f-f685-4421-df77-0c29b8161bcc",
        "colab": {
          "base_uri": "https://localhost:8080/",
          "height": 204
        }
      },
      "source": [
        "encode_df = encode_titles(title_regrouped_df)\n",
        "dummy_cols = [col for col in encode_df if col.startswith('Title')]\n",
        "encode_df[dummy_cols].head()"
      ],
      "execution_count": 37,
      "outputs": [
        {
          "output_type": "execute_result",
          "data": {
            "text/html": [
              "<div>\n",
              "<style scoped>\n",
              "    .dataframe tbody tr th:only-of-type {\n",
              "        vertical-align: middle;\n",
              "    }\n",
              "\n",
              "    .dataframe tbody tr th {\n",
              "        vertical-align: top;\n",
              "    }\n",
              "\n",
              "    .dataframe thead th {\n",
              "        text-align: right;\n",
              "    }\n",
              "</style>\n",
              "<table border=\"1\" class=\"dataframe\">\n",
              "  <thead>\n",
              "    <tr style=\"text-align: right;\">\n",
              "      <th></th>\n",
              "      <th>Title_Miss.</th>\n",
              "      <th>Title_Mr.</th>\n",
              "      <th>Title_Mrs.</th>\n",
              "      <th>Title_Uncommon</th>\n",
              "    </tr>\n",
              "  </thead>\n",
              "  <tbody>\n",
              "    <tr>\n",
              "      <th>0</th>\n",
              "      <td>0</td>\n",
              "      <td>1</td>\n",
              "      <td>0</td>\n",
              "      <td>0</td>\n",
              "    </tr>\n",
              "    <tr>\n",
              "      <th>1</th>\n",
              "      <td>0</td>\n",
              "      <td>0</td>\n",
              "      <td>1</td>\n",
              "      <td>0</td>\n",
              "    </tr>\n",
              "    <tr>\n",
              "      <th>2</th>\n",
              "      <td>1</td>\n",
              "      <td>0</td>\n",
              "      <td>0</td>\n",
              "      <td>0</td>\n",
              "    </tr>\n",
              "    <tr>\n",
              "      <th>3</th>\n",
              "      <td>0</td>\n",
              "      <td>0</td>\n",
              "      <td>1</td>\n",
              "      <td>0</td>\n",
              "    </tr>\n",
              "    <tr>\n",
              "      <th>4</th>\n",
              "      <td>0</td>\n",
              "      <td>1</td>\n",
              "      <td>0</td>\n",
              "      <td>0</td>\n",
              "    </tr>\n",
              "  </tbody>\n",
              "</table>\n",
              "</div>"
            ],
            "text/plain": [
              "   Title_Miss.  Title_Mr.  Title_Mrs.  Title_Uncommon\n",
              "0            0          1           0               0\n",
              "1            0          0           1               0\n",
              "2            1          0           0               0\n",
              "3            0          0           1               0\n",
              "4            0          1           0               0"
            ]
          },
          "metadata": {
            "tags": []
          },
          "execution_count": 37
        }
      ]
    },
    {
      "cell_type": "markdown",
      "metadata": {
        "id": "UvkvGZx9dVp2",
        "colab_type": "text"
      },
      "source": [
        "_**Expected Outputs:**_\n",
        "```python\n",
        "encode_df = encode_titles(title_regrouped_df)\n",
        "dummy_cols = [col for col in encode_df if col.startswith('Title')]\n",
        "encode_df[dummy_cols].head()\n",
        "```\n",
        "\n",
        "><table border=\"1\" class=\"dataframe\">  <thead>    <tr style=\"text-align: right;\">      <th></th>      <th>Title_Miss.</th>      <th>Title_Mr.</th>      <th>Title_Mrs.</th>      <th>Title_Uncommon</th>    </tr>  </thead>  <tbody>    <tr>      <th>0</th>      <td>0</td>      <td>1</td>      <td>0</td>      <td>0</td>    </tr>    <tr>      <th>1</th>      <td>0</td>      <td>0</td>      <td>1</td>      <td>0</td>    </tr>    <tr>      <th>2</th>      <td>1</td>      <td>0</td>      <td>0</td>      <td>0</td>    </tr>    <tr>      <th>3</th>      <td>0</td>      <td>0</td>      <td>1</td>      <td>0</td>    </tr>    <tr>      <th>4</th>      <td>0</td>      <td>1</td>      <td>0</td>      <td>0</td>    </tr>  </tbody></table>"
      ]
    }
  ]
}